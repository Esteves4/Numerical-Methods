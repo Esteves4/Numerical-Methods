{
 "cells": [
  {
   "cell_type": "markdown",
   "metadata": {},
   "source": [
    "# Método de Newton-Raphson para Polinômios\n",
    "## Objetivo\n",
    "O objetivo desse notebook é implementar o método de Newton-Raphson para Polinômios em Python e aplicá-lo para achar as raízes reais de polinômios.\n",
    "\n",
    "## Implementação\n",
    "Nós iremos implementar o algoritmo parte por parte, de acordo com a estratégia mostrada em sala. As instruções estão nos comentários na função abaixo. Você só precisa editar onde estiver indicado. \n",
    "\n",
    "Para executar uma célula, selecione a célula e pressione ```Ctrl + Enter```. Após implementar a função ```false_pos``` você deve executar cada uma das células, preferencialmente na ordem em que elas aparecem.\n"
   ]
  },
  {
   "cell_type": "code",
   "execution_count": 39,
   "metadata": {},
   "outputs": [],
   "source": [
    "def newton_poli(a, x, epsilon, iterMax=50):\n",
    "    \"\"\"Executa o método de Newton-Raphson para polinômios para achar o zero  \n",
    "       do polinômio definido como coeficientes a, onde a = [a0, a1, ..., an].\n",
    "       São necessárias a aproximação inicial x e a tolerância epsilon. \n",
    "       O método executa no máximo iterMax iterações.\n",
    "       Retorna uma tupla (houveErro, raiz), onde houveErro é booleano.\n",
    "    \"\"\"\n",
    "    ## O grau do polinômio será o número de elementos de a -1\n",
    "    n = len(a)-1\n",
    "    \n",
    "    ## Mostra na tela cabeçalho da tabela\n",
    "    print(\"k\\t  x\\t\\t p(x)\\t\\t\")\n",
    "       \n",
    "    ## Inicia as iterações em k=0:\n",
    "    k=0\n",
    "    \n",
    "    #for...\n",
    "    \n",
    "    for i in range(k, iterMax):\n",
    "        ## Inicializa as variáveis b e c:\n",
    "        b=a[n]\n",
    "        c=b\n",
    "        \n",
    "        \n",
    "        ## Construa um loop para atualizar b e c, variando i de n-1 até 1.\n",
    "        for j in range(n-1, 0,-1):\n",
    "            b = a[j] + b*x\n",
    "            c = b + c*x\n",
    "            \n",
    "            \n",
    "        ## Atualize o valor final de b usando o a[0] não incluso no loop acima.\n",
    "        b= a[0] + b*x\n",
    "            \n",
    "        ## mostra os valores calculados na tabela\n",
    "        print(\"%d\\t%e\\t%e\\t\"%(i, x, b))\n",
    "        \n",
    "        ## Teste para saber se x é raiz\n",
    "        if abs(b) <= epsilon:\n",
    "            return (False, x)\n",
    "        \n",
    "        ## Atualiza o valor de x pela função de iteração x = x - p(x)/p'(x)\n",
    "        x = x - (b/c)\n",
    "    \n",
    "    ## Se atingir o número máximo de iterações mostra mensagem de erro e retorna\n",
    "    ## a última raiz encontrada\n",
    "    print(\"ERRO! número máximo de iterações atingido.\")\n",
    "    return (True, x)"
   ]
  },
  {
   "cell_type": "markdown",
   "metadata": {},
   "source": [
    "Agora precisamos testar se a função está implementada corretamente. Iremos usar o seguinte polinômio: p(x) = x^3 + 2x^2 - x - 2. Usaremos x0 = 2, epsilon=0.001 e iterMax=20. Na célula abaixo inicialize as variáveis:"
   ]
  },
  {
   "cell_type": "code",
   "execution_count": 9,
   "metadata": {},
   "outputs": [],
   "source": [
    "## Observe que os coeficientes no polinômio\n",
    "## estão definidos do maior para o menor: a3, a2, a1 e a0.\n",
    "## Na lista abaixo eles precisam ser passados na ordem: a0, a1, a2 e a3.\n",
    "a = [-2,-1,2,1]\n",
    "x0 = 2\n",
    "epsilon= 0.001\n",
    "iterMax= 20"
   ]
  },
  {
   "cell_type": "markdown",
   "metadata": {},
   "source": [
    "Não se esqueça de executar as células de código acima"
   ]
  },
  {
   "cell_type": "markdown",
   "metadata": {},
   "source": [
    "Agora podemos chamar a função ```newton_poli``` com os parâmetros definidos. Lembre-se de que a função retorna uma tupla:"
   ]
  },
  {
   "cell_type": "code",
   "execution_count": 40,
   "metadata": {},
   "outputs": [
    {
     "name": "stdout",
     "output_type": "stream",
     "text": [
      "k\t  x\t\t p(x)\t\t\n",
      "0\t2.000000e+00\t1.200000e+01\t\n",
      "1\t1.368421e+00\t2.939204e+00\t\n",
      "2\t1.077163e+00\t4.932089e-01\t\n",
      "3\t1.004520e+00\t2.722323e-02\t\n",
      "4\t1.000017e+00\t1.015792e-04\t\n"
     ]
    }
   ],
   "source": [
    "## Chamando a função newton_poli com os parâmetros definidos nas células acima\n",
    "(houveErro, raiz) = newton_poli(a, x0, epsilon, iterMax)"
   ]
  },
  {
   "cell_type": "markdown",
   "metadata": {},
   "source": [
    "Confira a saída do seu programa com a saída abaixo:\n",
    "```\n",
    "k\t     x\t\t    p(x)\n",
    "0\t2.000000000\t1.200000e+01\n",
    "1\t1.368421053\t2.939204e+00\n",
    "2\t1.077163125\t4.932089e-01\n",
    "3\t1.004520163\t2.722323e-02\n",
    "4\t1.000016930\t1.015792e-04\n",
    "\n",
    "```\n",
    "Agora precisamos testar o valor de houveErro e mostrar a raiz se não houver erro:"
   ]
  },
  {
   "cell_type": "code",
   "execution_count": 41,
   "metadata": {},
   "outputs": [
    {
     "name": "stdout",
     "output_type": "stream",
     "text": [
      "Raiz encontrada: 1.0000169296346983\n"
     ]
    }
   ],
   "source": [
    "if houveErro:\n",
    "    print(\"O Método de Newton retornou um erro.\")\n",
    "if raiz is not None:\n",
    "    print(\"Raiz encontrada: %s\" % raiz)"
   ]
  },
  {
   "cell_type": "markdown",
   "metadata": {},
   "source": [
    "Se tudo deu certo, ao executar a célula acima, você deverá ver:\n",
    "\n",
    "```Raiz encontrada: 1.0000169296346983```"
   ]
  },
  {
   "cell_type": "markdown",
   "metadata": {},
   "source": [
    "## Comparação do tempo de execução\n",
    "Vamos comparar o tempo de execução entre o Método de Newton normal e o método de Newton para polinômios para ver se conseguimos perceber a diferença.\n",
    "\n",
    "Na célula abaixo, copie o código da função newton conforme implementada no outro notebook jupyter."
   ]
  },
  {
   "cell_type": "code",
   "execution_count": 42,
   "metadata": {},
   "outputs": [],
   "source": [
    "## cole aqui o código da função newton\n",
    "def newton(f, flin, x0, epsilon, iterMax=50):\n",
    "    \"\"\"Executa o método de Newton-Raphson para achar o zero de f  \n",
    "       a partir da derivada de f flin, aproximação inicial x0 \n",
    "       e tolerância epsilon.\n",
    "       Retorna uma tupla (houveErro, raiz), onde houveErro é booleano.\n",
    "    \"\"\"\n",
    "    ## Teste se x0 já é logo a raiz\n",
    "    Fx0 = f(x0)\n",
    "    Flin0 = flin(x0)    \n",
    "    \n",
    "    if abs(Fx0) <= epsilon:\n",
    "        return (False, x0)\n",
    "    \n",
    "    ## Escreva o cabeçalho da tabela e o valor da aproximação inicial\n",
    "    print(\"k\\t  x1\\t\\t fx1\\t\\t\")\n",
    "    print(\"-\\t%e\\t%e\\t\"%(x0, Fx0))\n",
    "\n",
    "    ## Iniciliza o k\n",
    "    k = 0\n",
    "    \n",
    "    ## Inicie as iterações (pode ser um for)\n",
    "    while k <= iterMax:\n",
    "    \n",
    "        ## Em cada iteração: \n",
    "        ##    Calcule x1 a partir de x0\n",
    "        x1 = x0 - (Fx0/Flin0)\n",
    "        Fx1 = f(x1)\n",
    "\n",
    "        ##    Escreva os valores de k, x1, f(x1)\n",
    "        print(\"%d\\t%e\\t%e\\t\"%(k, x1, Fx1))\n",
    "\n",
    "        ##    Teste para o critério de parada usando módulo da função\n",
    "        if abs(Fx1) <= epsilon:\n",
    "            return (False, x1)\n",
    "\n",
    "        ##    Atualize o valor de x0\n",
    "        x0 = x1\n",
    "        Fx0 = f(x0)\n",
    "        Flin0 = flin(x0)\n",
    "\n",
    "        ## Atualiza o k\n",
    "        k = k+1\n",
    "\n",
    "    ## Se atingir o número máximo de iterações mostra mensagem de erro e retorna\n",
    "    ## a última raiz encontrada\n",
    "    print(\"ERRO! número máximo de iterações atingido.\")\n",
    "    return (True, x1)"
   ]
  },
  {
   "cell_type": "markdown",
   "metadata": {},
   "source": [
    "Na célula abaixo, defina a função p(x) como sendo o polinômio p(x) = 3x^5 - 2x^4 + 5x^3 + 7x^2 - 3x + 1 e defina plin(x) como sendo a derivada do polinômio. Essas funções serão necessárias para o método de Newton."
   ]
  },
  {
   "cell_type": "code",
   "execution_count": 44,
   "metadata": {},
   "outputs": [],
   "source": [
    "#defina p(x) e plin(x)\n",
    "def p(x):\n",
    "    return 3*x**5 - 2*x**4 + 5*x**3 + 7*x**2 - 3*x + 1\n",
    "\n",
    "def plin(x):\n",
    "    return 15*x**4 - 8*x**3 + 15*x**2 + 14*x - 3"
   ]
  },
  {
   "cell_type": "markdown",
   "metadata": {},
   "source": [
    "Na célula abaixo, inicialize a lista a de coeficientes para newton_poli e os outros parâmetros comuns aos dois métodos: x0 = -0.75, epsilon=0.000000000001, iterMax = 100."
   ]
  },
  {
   "cell_type": "code",
   "execution_count": 43,
   "metadata": {},
   "outputs": [],
   "source": [
    "##inicialize a lista a, x0, epsilon e iterMax\n",
    "a = [1,-3,7,5,-2,3]\n",
    "x0 = -0.75\n",
    "epsilon= 0.000000000001\n",
    "iterMax= 100"
   ]
  },
  {
   "cell_type": "markdown",
   "metadata": {},
   "source": [
    "Na célula abaixo está o código usado para medir o tempo das funções em Python 3, usando o clock da máquina. Após executar as células acima, execute a célula abaixo para ver o resultado:"
   ]
  },
  {
   "cell_type": "code",
   "execution_count": 47,
   "metadata": {},
   "outputs": [
    {
     "name": "stdout",
     "output_type": "stream",
     "text": [
      "Método de Newton:\n",
      "k\t  x1\t\t fx1\t\t\n",
      "-\t-7.500000e-01\t3.733398e+00\t\n",
      "0\t-1.970626e+00\t-1.234832e+02\t\n",
      "1\t-1.578729e+00\t-3.833619e+01\t\n",
      "2\t-1.298784e+00\t-1.102759e+01\t\n",
      "3\t-1.127355e+00\t-2.578819e+00\t\n",
      "4\t-1.055666e+00\t-3.315022e-01\t\n",
      "5\t-1.043378e+00\t-8.595656e-03\t\n",
      "6\t-1.043042e+00\t-6.294848e-06\t\n",
      "7\t-1.043042e+00\t-3.383960e-12\t\n",
      "8\t-1.043042e+00\t3.996803e-15\t\n",
      "Raiz encontrada: -1.043041987980764\n",
      "\n",
      "\n",
      "Método de Newton para Polinômios\n",
      "k\t  x\t\t p(x)\t\t\n",
      "0\t-7.500000e-01\t3.733398e+00\t\n",
      "1\t-1.970626e+00\t-1.234832e+02\t\n",
      "2\t-1.578729e+00\t-3.833619e+01\t\n",
      "3\t-1.298784e+00\t-1.102759e+01\t\n",
      "4\t-1.127355e+00\t-2.578819e+00\t\n",
      "5\t-1.055666e+00\t-3.315022e-01\t\n",
      "6\t-1.043378e+00\t-8.595656e-03\t\n",
      "7\t-1.043042e+00\t-6.294848e-06\t\n",
      "8\t-1.043042e+00\t-3.381961e-12\t\n",
      "9\t-1.043042e+00\t-2.442491e-15\t\n",
      "Raiz encontrada: -1.0430419879807642\n",
      "\n",
      "\n",
      "Comparativo dos tempos de execução dos métodos:\n",
      "Método de Newton-Raphson: 0.3562929996405728 ms.\n",
      "Método de Newton-Raphson para Polinômios: 0.3012610013684025 ms.\n"
     ]
    }
   ],
   "source": [
    "import time\n",
    "\n",
    "## Medimos o tempo do clock imediatamente antes e depois de executar a função\n",
    "## O tempo levado é a diferença entre essas duas medidas.\n",
    "## O resultado é em fração de segundos. Nós multiplicamos a diferença por 1000 \n",
    "## para obtermos o resultado em milissegundos.\n",
    "print(\"Método de Newton:\")\n",
    "tni = time.perf_counter()\n",
    "(houveErro1, raiz1) = newton(p,plin,x0,epsilon, iterMax)\n",
    "tnf = time.perf_counter()\n",
    "if not houveErro1:\n",
    "    print(\"Raiz encontrada: %s\"%raiz1)\n",
    "else:\n",
    "    print(\"O método de Newton-Raphson retornou um erro\")\n",
    "\n",
    "print(\"\\n\\nMétodo de Newton para Polinômios\")\n",
    "tnpi = time.perf_counter()\n",
    "(houveErro2, raiz2) = newton_poli(a,x0,epsilon, iterMax)\n",
    "tnpf = time.perf_counter()\n",
    "if not houveErro2:\n",
    "    print(\"Raiz encontrada: %s\"%raiz2)\n",
    "else:\n",
    "    print(\"O Método de Newton-Raphson para polinômios retornou um erro.\")\n",
    "    \n",
    "print(\"\\n\\nComparativo dos tempos de execução dos métodos:\")\n",
    "print(\"Método de Newton-Raphson: %s ms.\"%((tnf-tni)*1000))\n",
    "print(\"Método de Newton-Raphson para Polinômios: %s ms.\"%((tnpf-tnpi)*1000))"
   ]
  },
  {
   "cell_type": "markdown",
   "metadata": {},
   "source": [
    "Note que os tempos de execução podem variar, mas em geral o tempo do método de Newton para polinômios deve ser menor."
   ]
  },
  {
   "cell_type": "markdown",
   "metadata": {},
   "source": [
    "## Exercício\n",
    "Na célula abaixo, compare o tempo de execução entre os métodos de Newton e Newton para polinômios para achar uma das raízes de p(x) = -3*x^6 + 2*x^5-5*x^4+6*x^3+7*x^2-4*x+3, com aproximação inicial x0 = 1.1 e epsilon = 1.000000e-13."
   ]
  },
  {
   "cell_type": "code",
   "execution_count": 49,
   "metadata": {},
   "outputs": [],
   "source": [
    "## Escreva o seu código aqui\n",
    "def p(x):\n",
    "    return -3*x**6 + 2*x**5 - 5*x**4 + 6*x**3 + 7*x**2 - 4*x + 3\n",
    "\n",
    "def plin(x):\n",
    "    return -18*x**5 + 10*x**4 - 20*x**3 + 18*x**2 + 14*x - 4"
   ]
  },
  {
   "cell_type": "code",
   "execution_count": 53,
   "metadata": {},
   "outputs": [],
   "source": [
    "##inicialize a lista a, x0, epsilon e iterMax\n",
    "a = [3,-4,7,6,-5,2,-3]\n",
    "x0 = 1.1\n",
    "epsilon= 10**-13\n",
    "iterMax= 100"
   ]
  },
  {
   "cell_type": "code",
   "execution_count": 54,
   "metadata": {},
   "outputs": [
    {
     "name": "stdout",
     "output_type": "stream",
     "text": [
      "Método de Newton:\n",
      "k\t  x1\t\t fx1\t\t\n",
      "-\t1.100000e+00\t5.641837e+00\t\n",
      "0\t1.824410e+00\t-7.015843e+01\t\n",
      "1\t1.584984e+00\t-2.097666e+01\t\n",
      "2\t1.427463e+00\t-5.281751e+00\t\n",
      "3\t1.352729e+00\t-8.147063e-01\t\n",
      "4\t1.336329e+00\t-3.296281e-02\t\n",
      "5\t1.335608e+00\t-6.151488e-05\t\n",
      "6\t1.335607e+00\t-2.155076e-10\t\n",
      "7\t1.335607e+00\t7.993606e-15\t\n",
      "Raiz encontrada: 1.335606706197397\n",
      "\n",
      "\n",
      "Método de Newton para Polinômios\n",
      "k\t  x\t\t p(x)\t\t\n",
      "0\t1.100000e+00\t5.641837e+00\t\n",
      "1\t1.824410e+00\t-7.015843e+01\t\n",
      "2\t1.584984e+00\t-2.097666e+01\t\n",
      "3\t1.427463e+00\t-5.281751e+00\t\n",
      "4\t1.352729e+00\t-8.147063e-01\t\n",
      "5\t1.336329e+00\t-3.296281e-02\t\n",
      "6\t1.335608e+00\t-6.151488e-05\t\n",
      "7\t1.335607e+00\t-2.155027e-10\t\n",
      "8\t1.335607e+00\t-8.881784e-16\t\n",
      "Raiz encontrada: 1.3356067061973973\n",
      "\n",
      "\n",
      "Comparativo dos tempos de execução dos métodos:\n",
      "Método de Newton-Raphson: 0.5182000004424481 ms.\n",
      "Método de Newton-Raphson para Polinômios: 0.4550419998849975 ms.\n"
     ]
    }
   ],
   "source": [
    "import time\n",
    "\n",
    "## Medimos o tempo do clock imediatamente antes e depois de executar a função\n",
    "## O tempo levado é a diferença entre essas duas medidas.\n",
    "## O resultado é em fração de segundos. Nós multiplicamos a diferença por 1000 \n",
    "## para obtermos o resultado em milissegundos.\n",
    "print(\"Método de Newton:\")\n",
    "tni = time.perf_counter()\n",
    "(houveErro1, raiz1) = newton(p,plin,x0,epsilon, iterMax)\n",
    "tnf = time.perf_counter()\n",
    "if not houveErro1:\n",
    "    print(\"Raiz encontrada: %s\"%raiz1)\n",
    "else:\n",
    "    print(\"O método de Newton-Raphson retornou um erro\")\n",
    "\n",
    "print(\"\\n\\nMétodo de Newton para Polinômios\")\n",
    "tnpi = time.perf_counter()\n",
    "(houveErro2, raiz2) = newton_poli(a,x0,epsilon, iterMax)\n",
    "tnpf = time.perf_counter()\n",
    "if not houveErro2:\n",
    "    print(\"Raiz encontrada: %s\"%raiz2)\n",
    "else:\n",
    "    print(\"O Método de Newton-Raphson para polinômios retornou um erro.\")\n",
    "    \n",
    "print(\"\\n\\nComparativo dos tempos de execução dos métodos:\")\n",
    "print(\"Método de Newton-Raphson: %s ms.\"%((tnf-tni)*1000))\n",
    "print(\"Método de Newton-Raphson para Polinômios: %s ms.\"%((tnpf-tnpi)*1000))"
   ]
  }
 ],
 "metadata": {
  "kernelspec": {
   "display_name": "Python 3",
   "language": "python",
   "name": "python3"
  },
  "language_info": {
   "codemirror_mode": {
    "name": "ipython",
    "version": 3
   },
   "file_extension": ".py",
   "mimetype": "text/x-python",
   "name": "python",
   "nbconvert_exporter": "python",
   "pygments_lexer": "ipython3",
   "version": "3.6.5"
  }
 },
 "nbformat": 4,
 "nbformat_minor": 2
}
