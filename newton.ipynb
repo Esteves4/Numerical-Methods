{
 "cells": [
  {
   "cell_type": "markdown",
   "metadata": {},
   "source": [
    "# Método de Newton-Raphson\n",
    "## Objetivo\n",
    "O objetivo desse notebook é implementar o método de Newton-Raphson em Python e aplicá-lo para achar as raízes de equações não lineares.\n",
    "\n",
    "## Implementação\n",
    "Nós iremos implementar o algoritmo parte por parte, de acordo com a estratégia mostrada em sala. As instruções estão nos comentários na função abaixo. Você só precisa editar onde estiver indicado. \n",
    "\n",
    "Para executar uma célula, selecione a célula e pressione ```Ctrl + Enter```. Após implementar a função ```false_pos``` você deve executar cada uma das células, preferencialmente na ordem em que elas aparecem.\n"
   ]
  },
  {
   "cell_type": "code",
   "execution_count": 1,
   "metadata": {},
   "outputs": [],
   "source": [
    "def newton(f, flin, x0, epsilon, iterMax=50):\n",
    "    \"\"\"Executa o método de Newton-Raphson para achar o zero de f  \n",
    "       a partir da derivada de f flin, aproximação inicial x0 \n",
    "       e tolerância epsilon.\n",
    "       Retorna uma tupla (houveErro, raiz), onde houveErro é booleano.\n",
    "    \"\"\"\n",
    "    ## Teste se x0 já é logo a raiz\n",
    "    Fx0 = f(x0)\n",
    "    Flin0 = flin(x0)    \n",
    "    \n",
    "    if abs(Fx0) <= epsilon:\n",
    "        return (False, x0)\n",
    "    \n",
    "    ## Escreva o cabeçalho da tabela e o valor da aproximação inicial\n",
    "    print(\"k\\t  x1\\t\\t fx1\\t\\t\")\n",
    "    print(\"-\\t%e\\t%e\\t\"%(x0, Fx0))\n",
    "\n",
    "    ## Iniciliza o k\n",
    "    k = 0\n",
    "    \n",
    "    ## Inicie as iterações (pode ser um for)\n",
    "    while k <= iterMax:\n",
    "    \n",
    "        ## Em cada iteração: \n",
    "        ##    Calcule x1 a partir de x0\n",
    "        x1 = x0 - (Fx0/Flin0)\n",
    "        Fx1 = f(x1)\n",
    "\n",
    "        ##    Escreva os valores de k, x1, f(x1)\n",
    "        print(\"%d\\t%e\\t%e\\t\"%(k, x1, Fx1))\n",
    "\n",
    "        ##    Teste para o critério de parada usando módulo da função\n",
    "        if abs(Fx1) <= epsilon:\n",
    "            return (False, x1)\n",
    "\n",
    "        ##    Atualize o valor de x0\n",
    "        x0 = x1\n",
    "        Fx0 = f(x0)\n",
    "        Flin0 = flin(x0)\n",
    "\n",
    "        ## Atualiza o k\n",
    "        k = k+1\n",
    "\n",
    "    ## Se atingir o número máximo de iterações mostra mensagem de erro e retorna\n",
    "    ## a última raiz encontrada\n",
    "    print(\"ERRO! número máximo de iterações atingido.\")\n",
    "    return (True, x1)"
   ]
  },
  {
   "cell_type": "markdown",
   "metadata": {},
   "source": [
    "Agora precisamos testar se a função está implementada corretamente. Iremos usar o exemplo mostrado em sala: f(x) = x^3-9x+3. Inicialmente vamos definir a função f:"
   ]
  },
  {
   "cell_type": "code",
   "execution_count": 2,
   "metadata": {},
   "outputs": [],
   "source": [
    "def f1(x):\n",
    "    return x**3 - 9*x + 3"
   ]
  },
  {
   "cell_type": "markdown",
   "metadata": {},
   "source": [
    "Na célula abaixo, defina ```flin```:"
   ]
  },
  {
   "cell_type": "code",
   "execution_count": 3,
   "metadata": {},
   "outputs": [],
   "source": [
    "## Definição da derivada de f\n",
    "# escreva o código aqui\n",
    "def flin1(x):\n",
    "    return 3*(x**2) - 9\n"
   ]
  },
  {
   "cell_type": "markdown",
   "metadata": {},
   "source": [
    "Não se esqueça de executar as células de código acima"
   ]
  },
  {
   "cell_type": "markdown",
   "metadata": {},
   "source": [
    "Depois iremos definir os parâmetros que serão passados para a função ```newton```:"
   ]
  },
  {
   "cell_type": "code",
   "execution_count": 4,
   "metadata": {},
   "outputs": [],
   "source": [
    "## Inicialização dos parâmetros\n",
    "# defina x0 = 0.5, epsilon = 0.0001 e maxIter=50\n",
    "x0 = 0.5\n",
    "epsilon = 0.0001\n",
    "maxIter=50"
   ]
  },
  {
   "cell_type": "markdown",
   "metadata": {},
   "source": [
    "Agora podemos chamar a função ```newton``` com os parâmetros definidos. Lembre-se de que a função retorna uma tupla:"
   ]
  },
  {
   "cell_type": "code",
   "execution_count": 5,
   "metadata": {},
   "outputs": [
    {
     "name": "stdout",
     "output_type": "stream",
     "text": [
      "k\t  x1\t\t fx1\t\t\n",
      "-\t5.000000e-01\t-1.375000e+00\t\n",
      "0\t3.333333e-01\t3.703704e-02\t\n",
      "1\t3.376068e-01\t1.834089e-05\t\n"
     ]
    }
   ],
   "source": [
    "## Chamando a função newton com os parâmetros definidos nas células acima\n",
    "#(houveErro, raiz) = ...\n",
    "(houveErro, raiz) = newton(f1, flin1, x0, epsilon, maxIter)"
   ]
  },
  {
   "cell_type": "markdown",
   "metadata": {},
   "source": [
    "Ao executar a célula acima, você verá a tabela de resultados como vista em sala. Agora precisamos testar o valor de houveErro e mostrar a raiz se não houver erro:"
   ]
  },
  {
   "cell_type": "code",
   "execution_count": 6,
   "metadata": {},
   "outputs": [
    {
     "name": "stdout",
     "output_type": "stream",
     "text": [
      "Raiz encontrada: 0.33760683760683763\n"
     ]
    }
   ],
   "source": [
    "if houveErro:\n",
    "    print(\"O Método de Newton retornou um erro.\")\n",
    "if raiz is not None:\n",
    "    print(\"Raiz encontrada: %s\" % raiz)"
   ]
  },
  {
   "cell_type": "markdown",
   "metadata": {},
   "source": [
    "Se tudo deu certo, ao executar a célula acima, você deverá ver:\n",
    "\n",
    "```Raiz encontrada: 0.33760683760683763```"
   ]
  },
  {
   "cell_type": "markdown",
   "metadata": {},
   "source": [
    "## Exercício\n",
    "\n",
    "Use a sua implementação do Método de Newton para encontrar a raiz da equação 4cos(x) - e^(2x)=0, com x0 = -2.5 e epsilon = 0.00001. O método convergiu? Qual a raiz encontrada e quantas iterações foram executadas?\n",
    "\n",
    "\n",
    "> Dicas: Não se esqueça de importar as funções da biblioteca math:\n",
    ">\n",
    "> \t   from math import exp, cos, sin\n",
    "> \t   #depois pode usá-las normalmente cos(x), exp(x), sin(x)"
   ]
  },
  {
   "cell_type": "code",
   "execution_count": 11,
   "metadata": {},
   "outputs": [
    {
     "name": "stdout",
     "output_type": "stream",
     "text": [
      "k\t  x1\t\t fx1\t\t\n",
      "-\t4.000000e+00\t4.700000e+01\t\n",
      "0\t7.916667e+00\t5.382697e+02\t\n",
      "1\t2.307919e+01\t2.008433e+04\t\n",
      "2\t1.818798e+02\t1.173774e+07\t\n",
      "3\t1.105742e+04\t2.702804e+12\t\n",
      "4\t4.075735e+07\t1.354090e+23\t\n",
      "5\t5.537204e+14\t3.395484e+44\t\n",
      "6\t1.022021e+29\t2.135057e+87\t\n",
      "7\t3.481757e+57\t8.441611e+172\t\n"
     ]
    },
    {
     "ename": "OverflowError",
     "evalue": "(34, 'Numerical result out of range')",
     "output_type": "error",
     "traceback": [
      "\u001b[0;31m---------------------------------------------------------------------------\u001b[0m",
      "\u001b[0;31mOverflowError\u001b[0m                             Traceback (most recent call last)",
      "\u001b[0;32m<ipython-input-11-8acd8cc59e4c>\u001b[0m in \u001b[0;36m<module>\u001b[0;34m()\u001b[0m\n\u001b[1;32m     21\u001b[0m \u001b[0;34m\u001b[0m\u001b[0m\n\u001b[1;32m     22\u001b[0m \u001b[0;31m## chame a função newton\u001b[0m\u001b[0;34m\u001b[0m\u001b[0;34m\u001b[0m\u001b[0m\n\u001b[0;32m---> 23\u001b[0;31m \u001b[0;34m(\u001b[0m\u001b[0mhouveErro\u001b[0m\u001b[0;34m,\u001b[0m \u001b[0mraiz\u001b[0m\u001b[0;34m)\u001b[0m \u001b[0;34m=\u001b[0m \u001b[0mnewton\u001b[0m\u001b[0;34m(\u001b[0m\u001b[0mf3\u001b[0m\u001b[0;34m,\u001b[0m \u001b[0mflin3\u001b[0m\u001b[0;34m,\u001b[0m \u001b[0mx0\u001b[0m\u001b[0;34m,\u001b[0m \u001b[0mepsilon\u001b[0m\u001b[0;34m,\u001b[0m \u001b[0mmaxIter\u001b[0m\u001b[0;34m)\u001b[0m\u001b[0;34m\u001b[0m\u001b[0m\n\u001b[0m\u001b[1;32m     24\u001b[0m \u001b[0;34m\u001b[0m\u001b[0m\n\u001b[1;32m     25\u001b[0m \u001b[0;31m## teste se houve erro e mostra a raiz\u001b[0m\u001b[0;34m\u001b[0m\u001b[0;34m\u001b[0m\u001b[0m\n",
      "\u001b[0;32m<ipython-input-1-829f368aa64a>\u001b[0m in \u001b[0;36mnewton\u001b[0;34m(f, flin, x0, epsilon, iterMax)\u001b[0m\n\u001b[1;32m     25\u001b[0m         \u001b[0;31m##    Calcule x1 a partir de x0\u001b[0m\u001b[0;34m\u001b[0m\u001b[0;34m\u001b[0m\u001b[0m\n\u001b[1;32m     26\u001b[0m         \u001b[0mx1\u001b[0m \u001b[0;34m=\u001b[0m \u001b[0mx0\u001b[0m \u001b[0;34m-\u001b[0m \u001b[0;34m(\u001b[0m\u001b[0mFx0\u001b[0m\u001b[0;34m/\u001b[0m\u001b[0mFlin0\u001b[0m\u001b[0;34m)\u001b[0m\u001b[0;34m\u001b[0m\u001b[0m\n\u001b[0;32m---> 27\u001b[0;31m         \u001b[0mFx1\u001b[0m \u001b[0;34m=\u001b[0m \u001b[0mf\u001b[0m\u001b[0;34m(\u001b[0m\u001b[0mx1\u001b[0m\u001b[0;34m)\u001b[0m\u001b[0;34m\u001b[0m\u001b[0m\n\u001b[0m\u001b[1;32m     28\u001b[0m \u001b[0;34m\u001b[0m\u001b[0m\n\u001b[1;32m     29\u001b[0m         \u001b[0;31m##    Escreva os valores de k, x1, f(x1)\u001b[0m\u001b[0;34m\u001b[0m\u001b[0;34m\u001b[0m\u001b[0m\n",
      "\u001b[0;32m<ipython-input-11-8acd8cc59e4c>\u001b[0m in \u001b[0;36mf3\u001b[0;34m(x)\u001b[0m\n\u001b[1;32m     10\u001b[0m \u001b[0;34m\u001b[0m\u001b[0m\n\u001b[1;32m     11\u001b[0m \u001b[0;32mdef\u001b[0m \u001b[0mf3\u001b[0m\u001b[0;34m(\u001b[0m\u001b[0mx\u001b[0m\u001b[0;34m)\u001b[0m\u001b[0;34m:\u001b[0m\u001b[0;34m\u001b[0m\u001b[0m\n\u001b[0;32m---> 12\u001b[0;31m     \u001b[0;32mreturn\u001b[0m \u001b[0;36m2\u001b[0m\u001b[0;34m*\u001b[0m\u001b[0mx\u001b[0m\u001b[0;34m**\u001b[0m\u001b[0;36m3\u001b[0m \u001b[0;34m-\u001b[0m \u001b[0;36m9\u001b[0m\u001b[0;34m*\u001b[0m\u001b[0mx\u001b[0m\u001b[0;34m**\u001b[0m\u001b[0;36m2\u001b[0m \u001b[0;34m+\u001b[0m \u001b[0;36m12\u001b[0m\u001b[0;34m*\u001b[0m\u001b[0mx\u001b[0m \u001b[0;34m+\u001b[0m \u001b[0;36m15\u001b[0m\u001b[0;34m\u001b[0m\u001b[0m\n\u001b[0m\u001b[1;32m     13\u001b[0m \u001b[0;34m\u001b[0m\u001b[0m\n\u001b[1;32m     14\u001b[0m \u001b[0;32mdef\u001b[0m \u001b[0mflin3\u001b[0m\u001b[0;34m(\u001b[0m\u001b[0mx\u001b[0m\u001b[0;34m)\u001b[0m\u001b[0;34m:\u001b[0m\u001b[0;34m\u001b[0m\u001b[0m\n",
      "\u001b[0;31mOverflowError\u001b[0m: (34, 'Numerical result out of range')"
     ]
    }
   ],
   "source": [
    "## importe as funções necessárias da biblioteca math\n",
    "from math import exp, cos, sin\n",
    "\n",
    "## defina as funções f1, e f1lin\n",
    "def f2(x):\n",
    "    return 4*cos(x) - exp(2*x)\n",
    "\n",
    "def flin2(x):\n",
    "    return -4*sin(x) - 2*exp(2*x)\n",
    "\n",
    "def f3(x):\n",
    "    return 2*x**3 - 9*x**2 + 12*x + 15\n",
    "\n",
    "def flin3(x):\n",
    "    return 6*x*2 - 18*x + 12\n",
    "\n",
    "## inicialize x0, epsilon e maxIter \n",
    "x0 = 4\n",
    "epsilon = 0.00001\n",
    "maxIter=50\n",
    "\n",
    "## chame a função newton\n",
    "(houveErro, raiz) = newton(f3, flin3, x0, epsilon, maxIter)\n",
    "\n",
    "## teste se houve erro e mostra a raiz\n",
    "if houveErro:\n",
    "    print(\"O Método de Newton retornou um erro.\")\n",
    "if raiz is not None:\n",
    "    print(\"Raiz encontrada: %s\" % raiz)\n"
   ]
  }
 ],
 "metadata": {
  "kernelspec": {
   "display_name": "Python 3",
   "language": "python",
   "name": "python3"
  },
  "language_info": {
   "codemirror_mode": {
    "name": "ipython",
    "version": 3
   },
   "file_extension": ".py",
   "mimetype": "text/x-python",
   "name": "python",
   "nbconvert_exporter": "python",
   "pygments_lexer": "ipython3",
   "version": "3.6.5"
  }
 },
 "nbformat": 4,
 "nbformat_minor": 2
}
