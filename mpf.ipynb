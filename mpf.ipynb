{
 "cells": [
  {
   "cell_type": "code",
   "execution_count": null,
   "metadata": {},
   "outputs": [],
   "source": [
    "def mpf(f, q, a, b, x0, epsilon, iterMax = 20):\n",
    "    Fx0 = f(x0)\n",
    "    \n",
    "    if(abs(Fx0) < epsilon):\n",
    "        return (False, x0)\n",
    "\n",
    "    for k in range(1, iterMax):\n",
    "        x1 = q(x0)\n",
    "        Fx1 = f(x1)\n",
    "\n",
    "        if(abs(Fx1) < epsilon):\n",
    "            return (False, x1)\n",
    "\n",
    "        if(abs(x1 - x0) < epsilon):\n",
    "            return (False, x1)\n",
    "\n",
    "        x0 = x1\n",
    "        \n",
    "return (True, x0)"
   ]
  }
 ],
 "metadata": {
  "kernelspec": {
   "display_name": "Python 3",
   "language": "python",
   "name": "python3"
  },
  "language_info": {
   "codemirror_mode": {
    "name": "ipython",
    "version": 3
   },
   "file_extension": ".py",
   "mimetype": "text/x-python",
   "name": "python",
   "nbconvert_exporter": "python",
   "pygments_lexer": "ipython3",
   "version": "3.6.5"
  }
 },
 "nbformat": 4,
 "nbformat_minor": 2
}
