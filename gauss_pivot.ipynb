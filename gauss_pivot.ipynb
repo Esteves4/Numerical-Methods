{
 "cells": [
  {
   "cell_type": "markdown",
   "metadata": {},
   "source": [
    "# Método da Eliminação de Gauss com Pivotação Parcial\n",
    "## Objetivo\n",
    "O objetivo desse notebook é implementar o método da eliminação de Gauss com Pivotação Parcial.\n",
    "\n",
    "## Implementação\n",
    "Nós iremos implementar o algoritmo parte por parte, de acordo com a estratégia mostrada em sala. As instruções estão nos comentários nas funções abaixo. Você só precisa editar onde estiver indicado. \n",
    "\n",
    "Para executar uma célula, selecione a célula e pressione ```Ctrl + Enter```. Após implementar as funções abaixo, você deve executar cada uma das células, preferencialmente na ordem em que elas aparecem.\n"
   ]
  },
  {
   "cell_type": "markdown",
   "metadata": {},
   "source": [
    "### Função para escolher o pivô"
   ]
  },
  {
   "cell_type": "code",
   "execution_count": 31,
   "metadata": {},
   "outputs": [],
   "source": [
    "def escolhe_pivo(k, A, b):\n",
    "    '''Escolhe o pivô de maior valor absoluto na coluna k a partir da linha k \n",
    "       da matriz A. Se o pivô estiver numa linha diferente de k, as linhas da\n",
    "       matriz A e do vetor b são trocadas.\n",
    "       Saída: booleano (True se houve troca)\n",
    "    '''\n",
    "    ## n é a ordem da matriz A\n",
    "    n = len(A)\n",
    "    \n",
    "    ## inicializa flag para controlar se houve troca de linha com false\n",
    "    houve_troca = False\n",
    "    ## identifica o elemento de maior valor absoluto e a linha onde ele está\n",
    "    maior = 0\n",
    "    linha = k\n",
    "    for i in range(k, n):\n",
    "        pivo = A[i][k]\n",
    "        if abs(pivo) > maior:\n",
    "            maior = pivo\n",
    "            linha = i\n",
    "    \n",
    "    ## se k for diferente da linha onde está o pivô, troca a linha k \n",
    "    ## pela linha do pivô em A e b e atribui o valor True à flag\n",
    "    if k != linha:\n",
    "        for i in range(0, n):\n",
    "            A[k][i], A[linha][i] = A[linha][i], A[k][i]\n",
    "            b[k], b[linha] = b[linha], b[k]\n",
    "            \n",
    "        houve_troca = True\n",
    "    ## retorna a flag\n",
    "    return houve_troca\n",
    "    "
   ]
  },
  {
   "cell_type": "markdown",
   "metadata": {},
   "source": [
    "Agora precisamos testar se a função está implementada corretamente. Iremos testar com o exemplo mostrado em sala."
   ]
  },
  {
   "cell_type": "code",
   "execution_count": 32,
   "metadata": {},
   "outputs": [
    {
     "name": "stdout",
     "output_type": "stream",
     "text": [
      "True\n",
      "A = [[3, 1, 0], [1, 2, 3], [0, 3, 4]]\n",
      "b = [4, 3, 3]\n"
     ]
    }
   ],
   "source": [
    "A = [[1, 2, 3],\n",
    "     [3, 1, 0],\n",
    "     [0, 3, 4]]\n",
    "b = [3, 4, 3]\n",
    "## Testaremos com a primeira coluna (k=0)\n",
    "houveTroca = escolhe_pivo(0, A, b)\n",
    "\n",
    "print(houveTroca)\n",
    "print(\"A =\", A)\n",
    "print(\"b =\", b)"
   ]
  },
  {
   "cell_type": "markdown",
   "metadata": {},
   "source": [
    "Se estiver tudo ok, ao executar a célula acima, você deve ver a resposta:\n",
    "```\n",
    "True\n",
    "A = [[3, 1, 0], [1, 2, 3], [0, 3, 4]]\n",
    "b = [4, 3, 3]\n",
    "```"
   ]
  },
  {
   "cell_type": "markdown",
   "metadata": {
    "collapsed": true
   },
   "source": [
    "### Método de Gauss com Pivotação\n",
    "\n",
    "Copie a função ```substituicoes_retroativas``` que você implementou no notebook gauss.ipynb.\n"
   ]
  },
  {
   "cell_type": "code",
   "execution_count": 33,
   "metadata": {},
   "outputs": [],
   "source": [
    "import sys\n",
    "import numpy as np\n",
    "from timeit import default_timer as timer\n",
    "\n",
    "def substituicoes_retroativas(A, b):\n",
    "    \n",
    "    A = np.array(np.mat(A),dtype=float)\n",
    "    b = np.array(np.mat(b),dtype=float)\n",
    "    \n",
    "    N = A.shape[0]\n",
    "    x = np.zeros(N)\n",
    "\n",
    "    outerLoopRange = range(N-1,-1,-1)\n",
    "\n",
    "\n",
    "    print(\"Matriz A:\")\n",
    "    print(A)\n",
    "    print(\"\\nVetor b:\")\n",
    "    print(b)\n",
    "    start = timer()\n",
    "\n",
    "    for i in outerLoopRange:\n",
    "        partialSum = 0\n",
    "        innerLoopRange = range(i+1,N)\n",
    "        for j in innerLoopRange:\n",
    "            partialSum += A[i,j]*x[j]\n",
    "        x[i] = (b[0,i] - partialSum)/A[i,i]\n",
    "\n",
    "  \n",
    "    end = timer()\n",
    "\n",
    "    print(\"\\nTempo de execução total aproximado: %e segundos\" % (end - start))\n",
    "    print(\"Tempo aproximado por iteração: %e segundos\" % ((end - start)/N))\n",
    "\n",
    "    print(\"\\nSolução encontrada:\")\n",
    "    print(x[:,None])\n",
    "\n",
    "    print(\"\\nVetor de resíduos:\")\n",
    "    print(b - A @ x)\n",
    "\n",
    "    return x\n"
   ]
  },
  {
   "cell_type": "markdown",
   "metadata": {},
   "source": [
    "Agora copie o conteúdo da função ```gauss``` que você implementou no notebook gauss.ipynb, modificando apenas a parte para escolher o pivô. O resto permanece igual."
   ]
  },
  {
   "cell_type": "code",
   "execution_count": 34,
   "metadata": {},
   "outputs": [],
   "source": [
    "def gauss_pivot(A, b):\n",
    "    '''Executa o método da eliminação de Gauss com pivotação para resolver o sistema  linear Ax=b \n",
    "    transformando o sistema em um sistema triangular superior equivalente.\n",
    "    Parâmetros de entrada: A é uma matriz quadrada de ordem n e b é o vetor constante.\n",
    "    Saída: vetor x\n",
    "    '''\n",
    "    ## n é a ordem da matriz A\n",
    "    n = len(A)\n",
    "    ## Para cada etapa k\n",
    "    for k in range(0, n):\n",
    "        ## Escolhe o pivô\n",
    "        escolhe_pivo(k, A, b)\n",
    "        \n",
    "        ## Para cada linha i\n",
    "        for i in range(k+1, n):\n",
    "            ## Calcula o fator m\n",
    "            m = -A[i][k]/A[k][k]\n",
    "            ## Atualiza a linha i da matriz, percorrendo todas as colunas j\n",
    "            for j in range(0, n):\n",
    "                A[i][j] = A[i][j] + m*A[k][j]\n",
    "            # Atualiza o vetor b na linha i\n",
    "            b[i] = b[i] + m*b[k]\n",
    "\n",
    "            ## Zera o elemento Aik\n",
    "            A[i][k] = 0\n",
    "                \n",
    "    ## Agora resolve o sistema triangular superior usando as substituições \n",
    "    ## retroativas\n",
    "    x = substituicoes_retroativas(A, b)\n",
    "    return x"
   ]
  },
  {
   "cell_type": "markdown",
   "metadata": {},
   "source": [
    "**Não se esqueça de executar as células de código acima!**"
   ]
  },
  {
   "cell_type": "markdown",
   "metadata": {},
   "source": [
    "Agora precisamos testar se a função está implementada corretamente. Também iremos usar o exemplo mostrado em sala."
   ]
  },
  {
   "cell_type": "code",
   "execution_count": 35,
   "metadata": {},
   "outputs": [
    {
     "name": "stdout",
     "output_type": "stream",
     "text": [
      "Matriz A:\n",
      "[[3.         1.         0.        ]\n",
      " [0.         3.         4.        ]\n",
      " [0.         0.         0.77777778]]\n",
      "\n",
      "Vetor b:\n",
      "[[4. 3. 0.]]\n",
      "\n",
      "Tempo de execução total aproximado: 1.444900e-05 segundos\n",
      "Tempo aproximado por iteração: 4.816333e-06 segundos\n",
      "\n",
      "Solução encontrada:\n",
      "[[1.]\n",
      " [1.]\n",
      " [0.]]\n",
      "\n",
      "Vetor de resíduos:\n",
      "[[0. 0. 0.]]\n",
      "[1. 1. 0.]\n"
     ]
    }
   ],
   "source": [
    "A = [[1, 2, 3],\n",
    "     [3, 1, 0],\n",
    "     [0, 3, 4]]\n",
    "b = [3, 4, 3]\n",
    "x = gauss_pivot(A, b)\n",
    "print(x)"
   ]
  },
  {
   "cell_type": "markdown",
   "metadata": {},
   "source": [
    "Se estiver tudo ok, ao executar a célula acima, você deve ver a resposta:\n",
    "```\n",
    "[1.0, 1.0, 0.0]\n",
    "```\n",
    "#### Exercício 1\n",
    "Na célula abaixo, teste o método resolvendo o exercício mostrado em sala:\n",
    "\n",
    "$\\left[\\begin{array}{rrr}\n",
    "1& -3 & 2\\\\\n",
    "-2& 8 & -1\\\\\n",
    "4& -6 & 5\\\\\n",
    "\\end{array}\\right] \\left[\\begin{array}{c}\n",
    "x_1\\\\\n",
    "x_2\\\\\n",
    "x_3\\\\\n",
    "\\end{array}\\right] = \\left[\\begin{array}{r}\n",
    "11\\\\\n",
    "-15\\\\\n",
    "29\\\\\n",
    "\\end{array}\\right] $"
   ]
  },
  {
   "cell_type": "code",
   "execution_count": 36,
   "metadata": {},
   "outputs": [
    {
     "name": "stdout",
     "output_type": "stream",
     "text": [
      "Matriz A:\n",
      "[[ 4.  -6.   5. ]\n",
      " [ 0.   5.   1.5]\n",
      " [ 0.   0.   2.2]]\n",
      "\n",
      "Vetor b:\n",
      "[[29.  -0.5  3.6]]\n",
      "\n",
      "Tempo de execução total aproximado: 1.355600e-05 segundos\n",
      "Tempo aproximado por iteração: 4.518667e-06 segundos\n",
      "\n",
      "Solução encontrada:\n",
      "[[ 4.31818182]\n",
      " [-0.59090909]\n",
      " [ 1.63636364]]\n",
      "\n",
      "Vetor de resíduos:\n",
      "[[0. 0. 0.]]\n",
      "[ 4.31818182 -0.59090909  1.63636364]\n"
     ]
    }
   ],
   "source": [
    "## Defina a matriz A e o vetor b e chame a função gauss_pivot\n",
    "# Escreva o seu código aqui\n",
    "A = [[1, -3, 3],\n",
    "     [-2, 8, -1],\n",
    "     [4, -6, 5]]\n",
    "b = [11, -15, 29]\n",
    "x = gauss_pivot(A, b)\n",
    "print(x)"
   ]
  },
  {
   "cell_type": "markdown",
   "metadata": {},
   "source": [
    "#### Exercício 2\n",
    "Na célula abaixo, o seguinte sistema linear:\n",
    "\n",
    "$\\left[\\begin{array}{rrr}\n",
    "3& 2 & 4\\\\\n",
    "1& 1 & 2\\\\\n",
    "4& 3 & -2\\\\\n",
    "\\end{array}\\right] \\left[\\begin{array}{c}\n",
    "x_1\\\\\n",
    "x_2\\\\\n",
    "x_3\\\\\n",
    "\\end{array}\\right] = \\left[\\begin{array}{r}\n",
    "1\\\\\n",
    "2\\\\\n",
    "3\\\\\n",
    "\\end{array}\\right] $"
   ]
  },
  {
   "cell_type": "code",
   "execution_count": 37,
   "metadata": {},
   "outputs": [
    {
     "name": "stdout",
     "output_type": "stream",
     "text": [
      "Matriz A:\n",
      "[[ 4.    3.   -2.  ]\n",
      " [ 0.    0.25  2.5 ]\n",
      " [ 0.    0.    8.  ]]\n",
      "\n",
      "Vetor b:\n",
      "[[3.   1.25 0.  ]]\n",
      "\n",
      "Tempo de execução total aproximado: 1.492500e-05 segundos\n",
      "Tempo aproximado por iteração: 4.975000e-06 segundos\n",
      "\n",
      "Solução encontrada:\n",
      "[[-3.]\n",
      " [ 5.]\n",
      " [ 0.]]\n",
      "\n",
      "Vetor de resíduos:\n",
      "[[0. 0. 0.]]\n",
      "[-3.  5.  0.]\n"
     ]
    }
   ],
   "source": [
    "## Defina a matriz A e o vetor b e chame a função gauss_pivot\n",
    "# Escreva o seu código aqui\n",
    "A = [[3, 2, 4],\n",
    "     [1, 1, 2],\n",
    "     [4, 3, -2]]\n",
    "b = [1, 2, 3]\n",
    "x = gauss_pivot(A, b)\n",
    "print(x)"
   ]
  },
  {
   "cell_type": "markdown",
   "metadata": {},
   "source": [
    "### Exercício\n",
    "\n",
    "Modifique o método de gauss com pivotação para também calcular o determinante.\n",
    "Use o valor retornado pela função ```escolhe_pivo``` para controlar o número de permutações, P.\n",
    "\n",
    "$det(A) = (-1)^P \\times det(U)$"
   ]
  },
  {
   "cell_type": "code",
   "execution_count": 38,
   "metadata": {},
   "outputs": [],
   "source": [
    "def gauss_pivot_det(A, b):\n",
    "    '''Executa o método da eliminação de Gauss com pivotação para resolver o sistema  linear Ax=b \n",
    "    transformando o sistema em um sistema triangular superior equivalente.\n",
    "    Parâmetros de entrada: A é uma matriz quadrada de ordem n e b é o vetor constante.\n",
    "    Saída: vetor x\n",
    "    '''\n",
    "    ## n é a ordem da matriz A\n",
    "    n = len(A)\n",
    "    P = 0\n",
    "    ## Para cada etapa k\n",
    "    for k in range(0, n):\n",
    "        ## Escolhe o pivô\n",
    "        if escolhe_pivo(k, A, b):\n",
    "            P += 1\n",
    "        \n",
    "        ## Para cada linha i\n",
    "        for i in range(k+1, n):\n",
    "            ## Calcula o fator m\n",
    "            m = -A[i][k]/A[k][k]\n",
    "            ## Atualiza a linha i da matriz, percorrendo todas as colunas j\n",
    "            for j in range(0, n):\n",
    "                A[i][j] = A[i][j] + m*A[k][j]\n",
    "            # Atualiza o vetor b na linha i\n",
    "            b[i] = b[i] + m*b[k]\n",
    "\n",
    "            ## Zera o elemento Aik\n",
    "            A[i][k] = 0\n",
    "    ## Agora calcula o determinante antes de resolver o sistema triangular superior\n",
    "    det = 1\n",
    "    for k in range(0, n):\n",
    "        det *= A[k][k]\n",
    "    \n",
    "    det *= (-1)**P\n",
    "    # Escreva o seu código aqui\n",
    "    \n",
    "    x = substituicoes_retroativas(A, b)\n",
    "    return (x, det)"
   ]
  },
  {
   "cell_type": "markdown",
   "metadata": {},
   "source": [
    "Agora teste com o exemplo acima:\n",
    "\n",
    "$\\left[\\begin{array}{rrr}\n",
    "1& -3 & 2\\\\\n",
    "-2& 8 & -1\\\\\n",
    "4& -6 & 5\\\\\n",
    "\\end{array}\\right] \\left[\\begin{array}{c}\n",
    "x_1\\\\\n",
    "x_2\\\\\n",
    "x_3\\\\\n",
    "\\end{array}\\right] = \\left[\\begin{array}{r}\n",
    "11\\\\\n",
    "-15\\\\\n",
    "29\\\\\n",
    "\\end{array}\\right] $"
   ]
  },
  {
   "cell_type": "code",
   "execution_count": 39,
   "metadata": {},
   "outputs": [
    {
     "name": "stdout",
     "output_type": "stream",
     "text": [
      "Matriz A:\n",
      "[[ 4.  -6.   5. ]\n",
      " [ 0.   5.   1.5]\n",
      " [ 0.   0.   1.2]]\n",
      "\n",
      "Vetor b:\n",
      "[[29.  -0.5  3.6]]\n",
      "\n",
      "Tempo de execução total aproximado: 1.317800e-05 segundos\n",
      "Tempo aproximado por iteração: 4.392667e-06 segundos\n",
      "\n",
      "Solução encontrada:\n",
      "[[ 2.]\n",
      " [-1.]\n",
      " [ 3.]]\n",
      "\n",
      "Vetor de resíduos:\n",
      "[[0.0000000e+00 0.0000000e+00 4.4408921e-16]]\n",
      "(array([ 2., -1.,  3.]), -24.0)\n"
     ]
    }
   ],
   "source": [
    "## Defina a matriz A e o vetor b e chame a função gauss_det\n",
    "# Escreva o seu código aqui\n",
    "A = [[1, -3, 2],\n",
    "     [-2, 8, -1],\n",
    "     [4, -6, 5]]\n",
    "b = [11, -15, 29]\n",
    "x = gauss_pivot_det(A, b)\n",
    "print(x)"
   ]
  },
  {
   "cell_type": "markdown",
   "metadata": {
    "collapsed": true
   },
   "source": [
    "Se tudo deu certo, você deve obter a seguinte resposta:\n",
    "\n",
    "```[2.0, -1.0, 3.0]  -24.0\n",
    "```\n"
   ]
  }
 ],
 "metadata": {
  "kernelspec": {
   "display_name": "Python 3",
   "language": "python",
   "name": "python3"
  },
  "language_info": {
   "codemirror_mode": {
    "name": "ipython",
    "version": 3
   },
   "file_extension": ".py",
   "mimetype": "text/x-python",
   "name": "python",
   "nbconvert_exporter": "python",
   "pygments_lexer": "ipython3",
   "version": "3.6.5"
  }
 },
 "nbformat": 4,
 "nbformat_minor": 2
}
