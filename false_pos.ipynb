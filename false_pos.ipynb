{
 "cells": [
  {
   "cell_type": "markdown",
   "metadata": {},
   "source": [
    "# Método da Posição Falsa\n",
    "## Objetivo\n",
    "O objetivo desse notebook é implementar o método da Posição Falsa em Python e aplicá-lo para achar as raízes de equações não lineares.\n",
    "\n",
    "## Implementação\n",
    "Nós iremos implementar o algoritmo parte por parte, de acordo com a estratégia mostrada em sala. As instruções estão nos comentários na função abaixo. Você só precisa editar onde estiver indicado. \n",
    "\n",
    "Para executar uma célula, selecione a célula e pressione ```Ctrl + Enter```. Após implementar a função ```false_pos``` você deve executar cada uma das células, preferencialmente na ordem em que elas aparecem.\n"
   ]
  },
  {
   "cell_type": "code",
   "execution_count": 24,
   "metadata": {},
   "outputs": [],
   "source": [
    "def false_pos(f, a, b, epsilon, maxIter = 50):\n",
    "    \"\"\"Executa o método da Posição Falsa para achar o zero de f no intervalo \n",
    "       [a,b] com precisão epsilon. O método executa no máximo maxIter\n",
    "       iterações.\n",
    "       Retorna uma tupla (houveErro, raiz), onde houveErro é booleano.\n",
    "    \"\"\"\n",
    "    ## Inicializar as variáveis Fa e Fb\n",
    "    Fa = f(a)\n",
    "    Fb = f(b)\n",
    "    \n",
    "    ## Teste para saber se a função muda de sinal. Se não mudar, mostrar\n",
    "    ## mensagem de erro\n",
    "    if Fa*Fb > 0:\n",
    "        ## Mostrar mensagem\n",
    "        print(\"Erro! A função não muda de sinal.\")\n",
    "        return (True, None)\n",
    "    \n",
    "    ## Inicializa o tamanho do intervalo intervX usando a função abs\n",
    "    intervX = abs(b-a)\n",
    "    \n",
    "    ## Teste se intervalo já é do tamanho da precisão e retorna a raiz sem erros\n",
    "    if intervX <= epsilon:\n",
    "        if(Fa < 0):\n",
    "            x0 = (a*Fb - b*Fa)/(Fb - Fa)\n",
    "        else:\n",
    "            x0 = (b*Fa - a*Fb)/(Fa - Fb)\n",
    "            \n",
    "        return (False, x0)\n",
    "        \n",
    "    \n",
    "    ## Testes se raiz está nos extremos dos intervalos\n",
    "    \n",
    "    ## Teste se a é raiz, se for, retorna o próprio a sem erros\n",
    "    if Fa == 0:\n",
    "        return (False, a)\n",
    "    \n",
    "    ## Teste se b é raiz, se for, retorna o próprio b sem erros\n",
    "    if Fb == 0:\n",
    "        return (False, b)\n",
    "    \n",
    "    ## Mostra na tela cabeçalho da tabela\n",
    "    print(\"k\\t  a\\t\\t  Fa\\t\\t  b\\t\\t  Fb\\t\\t  x\\t\\t  Fx\\t\\tintervX\")\n",
    "    \n",
    "    ## Iniciliza o k, dessa vez usaremos um for\n",
    "    for k in range(1, maxIter+1):\n",
    "        ## Calcula x, Fx\n",
    "        x = (a*Fb - b*Fa)/(Fb - Fa) if Fa < 0 else (b*Fa - a*Fb)/(Fa - Fb)\n",
    "        Fx = f(x)\n",
    "        \n",
    "        ## Mostra valores na tela\n",
    "        print(\"%d\\t%e\\t%e\\t%e\\t%e\\t%e\\t%e\\t%e\"%(k,a, Fa, b, Fb, x, Fx, intervX))\n",
    "        \n",
    "        ## Teste do critério de parada módulo da função\n",
    "        #if ...\n",
    "        \n",
    "        ## Testes para saber se a raiz está entre a e x ou entre x e b e atualiza\n",
    "        ## as variáveis apropriadamente\n",
    "        \n",
    "        if Fa * Fx > 0:\n",
    "            a = x\n",
    "            Fa = f(a)\n",
    "        else:s\n",
    "            b = x\n",
    "            Fb = f(b)\n",
    "        \n",
    "        ## Atualiza intervX e checa o outro critério de parada: tamanho do intervalo\n",
    "        intervX = abs(b-a)\n",
    "        if intervX <= epsilon:\n",
    "            return (False, x)\n",
    "       \n",
    "    ## Mostrar uma mensagem de erro e retorna que houve erro e a última raiz encontrada\n",
    "    print(\"ERRO! número máximo de iterações atingido.\")\n",
    "    return (True, x)"
   ]
  },
  {
   "cell_type": "markdown",
   "metadata": {},
   "source": [
    "Agora precisamos testar se a função está implementada corretamente. Iremos usar o exemplo mostrado em sala: f(x) = x^3-9x+3. Inicialmente vamos definir a função f:"
   ]
  },
  {
   "cell_type": "code",
   "execution_count": 5,
   "metadata": {},
   "outputs": [],
   "source": [
    "def f(x):\n",
    "    return x**3 - 9*x + 3"
   ]
  },
  {
   "cell_type": "markdown",
   "metadata": {},
   "source": [
    "Não se esqueça de executar as células de código acima"
   ]
  },
  {
   "cell_type": "markdown",
   "metadata": {},
   "source": [
    "Depois iremos definir os parâmetros que serão passados para a função bissecao:"
   ]
  },
  {
   "cell_type": "code",
   "execution_count": 25,
   "metadata": {},
   "outputs": [],
   "source": [
    "a = 0\n",
    "b = 1\n",
    "epsilon = 0.001\n",
    "maxIter = 20"
   ]
  },
  {
   "cell_type": "markdown",
   "metadata": {},
   "source": [
    "Agora podemos chamar a função ```false_pos``` com os parâmetros definidos. Lembre-se de que a função retorna uma tupla:"
   ]
  },
  {
   "cell_type": "code",
   "execution_count": 26,
   "metadata": {},
   "outputs": [
    {
     "name": "stdout",
     "output_type": "stream",
     "text": [
      "k\t  a\t\t  Fa\t\t  b\t\t  Fb\t\t  x\t\t  Fx\t\tintervX\n",
      "1\t0.000000e+00\t3.000000e+00\t1.000000e+00\t-5.000000e+00\t3.750000e-01\t-3.222656e-01\t1.000000e+00\n",
      "2\t0.000000e+00\t3.000000e+00\t3.750000e-01\t-3.222656e-01\t3.386243e-01\t-8.790199e-03\t3.750000e-01\n",
      "3\t0.000000e+00\t3.000000e+00\t3.386243e-01\t-8.790199e-03\t3.376350e-01\t-2.258842e-04\t3.386243e-01\n",
      "4\t0.000000e+00\t3.000000e+00\t3.376350e-01\t-2.258842e-04\t3.376096e-01\t-5.795026e-06\t3.376350e-01\n",
      "5\t0.000000e+00\t3.000000e+00\t3.376096e-01\t-5.795026e-06\t3.376090e-01\t-1.486642e-07\t3.376096e-01\n",
      "6\t0.000000e+00\t3.000000e+00\t3.376090e-01\t-1.486642e-07\t3.376090e-01\t-3.813793e-09\t3.376090e-01\n",
      "7\t0.000000e+00\t3.000000e+00\t3.376090e-01\t-3.813793e-09\t3.376090e-01\t-9.783774e-11\t3.376090e-01\n",
      "8\t0.000000e+00\t3.000000e+00\t3.376090e-01\t-9.783774e-11\t3.376090e-01\t-2.509992e-12\t3.376090e-01\n",
      "9\t0.000000e+00\t3.000000e+00\t3.376090e-01\t-2.509992e-12\t3.376090e-01\t-6.439294e-14\t3.376090e-01\n",
      "10\t0.000000e+00\t3.000000e+00\t3.376090e-01\t-6.439294e-14\t3.376090e-01\t-1.776357e-15\t3.376090e-01\n",
      "11\t0.000000e+00\t3.000000e+00\t3.376090e-01\t-1.776357e-15\t3.376090e-01\t4.440892e-16\t3.376090e-01\n"
     ]
    }
   ],
   "source": [
    "(houveErro, raiz) = false_pos(f, a, b, epsilon, maxIter)"
   ]
  },
  {
   "cell_type": "markdown",
   "metadata": {},
   "source": [
    "Ao executar a célula acima, você verá a tabela de resultados como vista em sala. Agora precisamos testar o valor de houveErro e mostrar a raiz se não houver erro:"
   ]
  },
  {
   "cell_type": "code",
   "execution_count": 28,
   "metadata": {},
   "outputs": [
    {
     "name": "stdout",
     "output_type": "stream",
     "text": [
      "Raiz encontrada: 0.33760895596583773\n"
     ]
    }
   ],
   "source": [
    "if houveErro:\n",
    "    print(\"O Método da Posição Falsa retornou um erro.\")\n",
    "if raiz is not None:\n",
    "    print(\"Raiz encontrada: %s\" % raiz)"
   ]
  },
  {
   "cell_type": "markdown",
   "metadata": {},
   "source": [
    "Se tudo deu certo, ao executar a célula acima, você deverá ver:\n",
    "\n",
    "```Raiz encontrada: 0.33763504551140067```"
   ]
  },
  {
   "cell_type": "markdown",
   "metadata": {},
   "source": [
    "## Exercícios\n",
    "\n",
    "### Exercício 1\n",
    "\n",
    "Modifique os valores de a e b na célula abaixo para achar as outras duas raízes da função. Após editar a célula, execute-a para ver a tabela e a raiz. Quantas iterações foram necessárias?"
   ]
  },
  {
   "cell_type": "code",
   "execution_count": 35,
   "metadata": {},
   "outputs": [
    {
     "name": "stdout",
     "output_type": "stream",
     "text": [
      "Erro! A função não muda de sinal.\n",
      "O Método da Posição Falsa retornou um erro.\n"
     ]
    }
   ],
   "source": [
    "## modifique os valores abaixo\n",
    "a = 6\n",
    "b = 7\n",
    "\n",
    "epsilon = 0.001\n",
    "maxIter = 20\n",
    "(houveErro, raiz) = false_pos(f, a, b, epsilon, maxIter)\n",
    "if houveErro:\n",
    "    print(\"O Método da Posição Falsa retornou um erro.\")\n",
    "if raiz is not None:\n",
    "    print(\"Raiz encontrada: %s\" % raiz)"
   ]
  },
  {
   "cell_type": "markdown",
   "metadata": {},
   "source": [
    "### Exercício 2\n",
    "\n",
    "Defina uma nova função f1(x) = x^3 - x^2 -2x + 1, e ache a raiz dessa função no intervalo [1,2], com epsilon = 0.0001."
   ]
  },
  {
   "cell_type": "code",
   "execution_count": 39,
   "metadata": {},
   "outputs": [
    {
     "name": "stdout",
     "output_type": "stream",
     "text": [
      "k\t  a\t\t  Fa\t\t  b\t\t  Fb\t\t  x\t\t  Fx\t\tintervX\n",
      "1\t1.000000e+00\t-1.000000e+00\t2.000000e+00\t1.000000e+00\t1.500000e+00\t-8.750000e-01\t1.000000e+00\n",
      "2\t1.500000e+00\t-8.750000e-01\t2.000000e+00\t1.000000e+00\t1.733333e+00\t-2.634074e-01\t5.000000e-01\n",
      "3\t1.733333e+00\t-2.634074e-01\t2.000000e+00\t1.000000e+00\t1.788931e+00\t-5.306822e-02\t2.666667e-01\n",
      "4\t1.788931e+00\t-5.306822e-02\t2.000000e+00\t1.000000e+00\t1.799567e+00\t-9.782338e-03\t2.110694e-01\n",
      "5\t1.799567e+00\t-9.782338e-03\t2.000000e+00\t1.000000e+00\t1.801509e+00\t-1.773308e-03\t2.004328e-01\n",
      "6\t1.801509e+00\t-1.773308e-03\t2.000000e+00\t1.000000e+00\t1.801860e+00\t-3.204816e-04\t1.984911e-01\n",
      "7\t1.801860e+00\t-3.204816e-04\t2.000000e+00\t1.000000e+00\t1.801924e+00\t-5.788725e-05\t1.981397e-01\n",
      "8\t1.801924e+00\t-5.788725e-05\t2.000000e+00\t1.000000e+00\t1.801935e+00\t-1.045489e-05\t1.980763e-01\n",
      "9\t1.801935e+00\t-1.045489e-05\t2.000000e+00\t1.000000e+00\t1.801937e+00\t-1.888201e-06\t1.980648e-01\n",
      "10\t1.801937e+00\t-1.888201e-06\t2.000000e+00\t1.000000e+00\t1.801938e+00\t-3.410167e-07\t1.980627e-01\n",
      "11\t1.801938e+00\t-3.410167e-07\t2.000000e+00\t1.000000e+00\t1.801938e+00\t-6.158893e-08\t1.980623e-01\n",
      "12\t1.801938e+00\t-6.158893e-08\t2.000000e+00\t1.000000e+00\t1.801938e+00\t-1.112320e-08\t1.980623e-01\n",
      "13\t1.801938e+00\t-1.112320e-08\t2.000000e+00\t1.000000e+00\t1.801938e+00\t-2.008893e-09\t1.980623e-01\n",
      "14\t1.801938e+00\t-2.008893e-09\t2.000000e+00\t1.000000e+00\t1.801938e+00\t-3.628129e-10\t1.980623e-01\n",
      "15\t1.801938e+00\t-3.628129e-10\t2.000000e+00\t1.000000e+00\t1.801938e+00\t-6.552581e-11\t1.980623e-01\n",
      "16\t1.801938e+00\t-6.552581e-11\t2.000000e+00\t1.000000e+00\t1.801938e+00\t-1.183276e-11\t1.980623e-01\n",
      "17\t1.801938e+00\t-1.183276e-11\t2.000000e+00\t1.000000e+00\t1.801938e+00\t-2.137845e-12\t1.980623e-01\n",
      "18\t1.801938e+00\t-2.137845e-12\t2.000000e+00\t1.000000e+00\t1.801938e+00\t-3.859135e-13\t1.980623e-01\n",
      "19\t1.801938e+00\t-3.859135e-13\t2.000000e+00\t1.000000e+00\t1.801938e+00\t-6.972201e-14\t1.980623e-01\n",
      "20\t1.801938e+00\t-6.972201e-14\t2.000000e+00\t1.000000e+00\t1.801938e+00\t-1.287859e-14\t1.980623e-01\n",
      "ERRO! número máximo de iterações atingido.\n",
      "O Método da Posição Falsa retornou um erro.\n",
      "Raiz encontrada: 1.8019377358048352\n"
     ]
    }
   ],
   "source": [
    "## defina a nova função f1\n",
    "\n",
    "\n",
    "## copie o código da célula usada no exercício 1 aqui embaixo, alterando os valores \n",
    "## de a, b, epsilon e a função passada ao chamar false_pos\n",
    "\n",
    "## modifique os valores abaixo\n",
    "a = 1\n",
    "b = 2\n",
    "\n",
    "def f(x):\n",
    "    return x**3 - x**2 - 2*x + 1\n",
    "\n",
    "epsilon = 0.0001\n",
    "maxIter = 20\n",
    "(houveErro, raiz) = false_pos(f, a, b, epsilon, maxIter)\n",
    "if houveErro:\n",
    "    print(\"O Método da Posição Falsa retornou um erro.\")\n",
    "if raiz is not None:\n",
    "    print(\"Raiz encontrada: %s\" % raiz)\n"
   ]
  }
 ],
 "metadata": {
  "kernelspec": {
   "display_name": "Python 3",
   "language": "python",
   "name": "python3"
  },
  "language_info": {
   "codemirror_mode": {
    "name": "ipython",
    "version": 3
   },
   "file_extension": ".py",
   "mimetype": "text/x-python",
   "name": "python",
   "nbconvert_exporter": "python",
   "pygments_lexer": "ipython3",
   "version": "3.6.5"
  }
 },
 "nbformat": 4,
 "nbformat_minor": 2
}
