{
 "cells": [
  {
   "cell_type": "markdown",
   "metadata": {},
   "source": [
    "# Método da Posição Falsa\n",
    "## Objetivo\n",
    "O objetivo desse notebook é implementar o método da Posição Falsa em Python e aplicá-lo para achar as raízes de equações não lineares.\n",
    "\n",
    "## Implementação\n",
    "Nós iremos implementar o algoritmo parte por parte, de acordo com a estratégia mostrada em sala. As instruções estão nos comentários na função abaixo. Você só precisa editar onde estiver indicado. \n",
    "\n",
    "Para executar uma célula, selecione a célula e pressione ```Ctrl + Enter```. Após implementar a função ```false_pos``` você deve executar cada uma das células, preferencialmente na ordem em que elas aparecem.\n"
   ]
  },
  {
   "cell_type": "code",
   "execution_count": 2,
   "metadata": {},
   "outputs": [],
   "source": [
    "def false_pos(f, a, b, epsilon, maxIter = 50):\n",
    "    \"\"\"Executa o método da Posição Falsa para achar o zero de f no intervalo \n",
    "       [a,b] com precisão epsilon. O método executa no máximo maxIter\n",
    "       iterações.\n",
    "       Retorna uma tupla (houveErro, raiz), onde houveErro é booleano.\n",
    "    \"\"\"\n",
    "    ## Inicializar as variáveis Fa e Fb\n",
    "    Fa = f(a)\n",
    "    Fb = f(b)\n",
    "    \n",
    "    ## Teste para saber se a função muda de sinal. Se não mudar, mostrar\n",
    "    ## mensagem de erro\n",
    "    if Fa*Fb > 0:\n",
    "        ## Mostrar mensagem\n",
    "        print(\"Erro! A função não muda de sinal.\")\n",
    "        return (True, None)\n",
    "    \n",
    "    ## Inicializa o tamanho do intervalo intervX usando a função abs\n",
    "    intervX = abs(b-a)\n",
    "    \n",
    "    ## Teste se intervalo já é do tamanho da precisão e retorna a raiz sem erros\n",
    "    if intervX <= epsilon:\n",
    "        if(Fa < 0):\n",
    "            x0 = (a*Fb - b*Fa)/(Fb - Fa)\n",
    "        else:\n",
    "            x0 = (b*Fa - a*Fb)/(Fa - Fb)\n",
    "            \n",
    "        return (False, x0)\n",
    "        \n",
    "    \n",
    "    ## Testes se raiz está nos extremos dos intervalos\n",
    "    \n",
    "    ## Teste se a é raiz, se for, retorna o próprio a sem erros\n",
    "    if Fa == 0:\n",
    "        return (False, a)\n",
    "    \n",
    "    ## Teste se b é raiz, se for, retorna o próprio b sem erros\n",
    "    if Fb == 0:\n",
    "        return (False, b)\n",
    "    \n",
    "    ## Mostra na tela cabeçalho da tabela\n",
    "    print(\"k\\t  a\\t\\t  Fa\\t\\t  b\\t\\t  Fb\\t\\t  x\\t\\t  Fx\\t\\tintervX\")\n",
    "    \n",
    "    ## Iniciliza o k, dessa vez usaremos um for\n",
    "    for k in range(1, maxIter+1):\n",
    "        ## Calcula x, Fx\n",
    "        x = (a*Fb - b*Fa)/(Fb - Fa) if Fa < 0 else (b*Fa - a*Fb)/(Fa - Fb)\n",
    "        Fx = f(x)\n",
    "        \n",
    "        ## Mostra valores na tela\n",
    "        print(\"%d\\t%e\\t%e\\t%e\\t%e\\t%e\\t%e\\t%e\"%(k,a, Fa, b, Fb, x, Fx, intervX))\n",
    "        \n",
    "        ## Teste do critério de parada módulo da função\n",
    "        if abs(Fx) <= epsilon:\n",
    "            return (False, x)\n",
    "        \n",
    "        ## Testes para saber se a raiz está entre a e x ou entre x e b e atualiza\n",
    "        ## as variáveis apropriadamente\n",
    "        \n",
    "        if Fa * Fx > 0:\n",
    "            a = x\n",
    "            Fa = f(a)\n",
    "        else:\n",
    "            b = x\n",
    "            Fb = f(b)\n",
    "        \n",
    "        ## Atualiza intervX e checa o outro critério de parada: tamanho do intervalo\n",
    "        intervX = abs(b-a)\n",
    "        if intervX <= epsilon:\n",
    "            return (False, x)\n",
    "       \n",
    "    ## Mostrar uma mensagem de erro e retorna que houve erro e a última raiz encontrada\n",
    "    print(\"ERRO! número máximo de iterações atingido.\")\n",
    "    return (True, x)"
   ]
  },
  {
   "cell_type": "markdown",
   "metadata": {},
   "source": [
    "Agora precisamos testar se a função está implementada corretamente. Iremos usar o exemplo mostrado em sala: f(x) = x^3-9x+3. Inicialmente vamos definir a função f:"
   ]
  },
  {
   "cell_type": "code",
   "execution_count": 3,
   "metadata": {},
   "outputs": [],
   "source": [
    "def f(x):\n",
    "    return x**3 - 9*x + 3"
   ]
  },
  {
   "cell_type": "markdown",
   "metadata": {},
   "source": [
    "Não se esqueça de executar as células de código acima"
   ]
  },
  {
   "cell_type": "markdown",
   "metadata": {},
   "source": [
    "Depois iremos definir os parâmetros que serão passados para a função bissecao:"
   ]
  },
  {
   "cell_type": "code",
   "execution_count": 4,
   "metadata": {},
   "outputs": [],
   "source": [
    "a = 0\n",
    "b = 1\n",
    "epsilon = 0.001\n",
    "maxIter = 20"
   ]
  },
  {
   "cell_type": "markdown",
   "metadata": {},
   "source": [
    "Agora podemos chamar a função ```false_pos``` com os parâmetros definidos. Lembre-se de que a função retorna uma tupla:"
   ]
  },
  {
   "cell_type": "code",
   "execution_count": 5,
   "metadata": {},
   "outputs": [
    {
     "name": "stdout",
     "output_type": "stream",
     "text": [
      "k\t  a\t\t  Fa\t\t  b\t\t  Fb\t\t  x\t\t  Fx\t\tintervX\n",
      "1\t0.000000e+00\t3.000000e+00\t1.000000e+00\t-5.000000e+00\t3.750000e-01\t-3.222656e-01\t1.000000e+00\n",
      "2\t0.000000e+00\t3.000000e+00\t3.750000e-01\t-3.222656e-01\t3.386243e-01\t-8.790199e-03\t3.750000e-01\n",
      "3\t0.000000e+00\t3.000000e+00\t3.386243e-01\t-8.790199e-03\t3.376350e-01\t-2.258842e-04\t3.386243e-01\n",
      "Tempo de execução total: 4.123760e-04 segundos\n"
     ]
    }
   ],
   "source": [
    "from timeit import default_timer as timer\n",
    "\n",
    "start = timer()\n",
    "(houveErro, raiz) = false_pos(f, a, b, epsilon, maxIter)\n",
    "\n",
    "end = timer()\n",
    "print(\"Tempo de execução total: %e segundos\" %(end - start))"
   ]
  },
  {
   "cell_type": "markdown",
   "metadata": {},
   "source": [
    "Ao executar a célula acima, você verá a tabela de resultados como vista em sala. Agora precisamos testar o valor de houveErro e mostrar a raiz se não houver erro:"
   ]
  },
  {
   "cell_type": "code",
   "execution_count": 6,
   "metadata": {},
   "outputs": [
    {
     "name": "stdout",
     "output_type": "stream",
     "text": [
      "Raiz encontrada: 0.33763504551140067\n"
     ]
    }
   ],
   "source": [
    "if houveErro:\n",
    "    print(\"O Método da Posição Falsa retornou um erro.\")\n",
    "if raiz is not None:\n",
    "    print(\"Raiz encontrada: %s\" % raiz)"
   ]
  },
  {
   "cell_type": "markdown",
   "metadata": {},
   "source": [
    "Se tudo deu certo, ao executar a célula acima, você deverá ver:\n",
    "\n",
    "```Raiz encontrada: 0.33763504551140067```"
   ]
  },
  {
   "cell_type": "markdown",
   "metadata": {},
   "source": [
    "## Exercícios\n",
    "\n",
    "### Exercício 1\n",
    "\n",
    "Modifique os valores de a e b na célula abaixo para achar as outras duas raízes da função. Após editar a célula, execute-a para ver a tabela e a raiz. Quantas iterações foram necessárias?"
   ]
  },
  {
   "cell_type": "code",
   "execution_count": 7,
   "metadata": {},
   "outputs": [
    {
     "name": "stdout",
     "output_type": "stream",
     "text": [
      "Erro! A função não muda de sinal.\n",
      "O Método da Posição Falsa retornou um erro.\n"
     ]
    }
   ],
   "source": [
    "## modifique os valores abaixo\n",
    "a = 6\n",
    "b = 7\n",
    "\n",
    "epsilon = 0.001\n",
    "maxIter = 20\n",
    "(houveErro, raiz) = false_pos(f, a, b, epsilon, maxIter)\n",
    "if houveErro:\n",
    "    print(\"O Método da Posição Falsa retornou um erro.\")\n",
    "if raiz is not None:\n",
    "    print(\"Raiz encontrada: %s\" % raiz)"
   ]
  },
  {
   "cell_type": "markdown",
   "metadata": {},
   "source": [
    "### Exercício 2\n",
    "\n",
    "Defina uma nova função f1(x) = x^3 - x^2 -2x + 1, e ache a raiz dessa função no intervalo [1,2], com epsilon = 0.0001."
   ]
  },
  {
   "cell_type": "code",
   "execution_count": 8,
   "metadata": {
    "scrolled": true
   },
   "outputs": [
    {
     "name": "stdout",
     "output_type": "stream",
     "text": [
      "k\t  a\t\t  Fa\t\t  b\t\t  Fb\t\t  x\t\t  Fx\t\tintervX\n",
      "1\t1.000000e+00\t-1.000000e+00\t2.000000e+00\t1.000000e+00\t1.500000e+00\t-8.750000e-01\t1.000000e+00\n",
      "2\t1.500000e+00\t-8.750000e-01\t2.000000e+00\t1.000000e+00\t1.733333e+00\t-2.634074e-01\t5.000000e-01\n",
      "3\t1.733333e+00\t-2.634074e-01\t2.000000e+00\t1.000000e+00\t1.788931e+00\t-5.306822e-02\t2.666667e-01\n",
      "4\t1.788931e+00\t-5.306822e-02\t2.000000e+00\t1.000000e+00\t1.799567e+00\t-9.782338e-03\t2.110694e-01\n",
      "5\t1.799567e+00\t-9.782338e-03\t2.000000e+00\t1.000000e+00\t1.801509e+00\t-1.773308e-03\t2.004328e-01\n",
      "6\t1.801509e+00\t-1.773308e-03\t2.000000e+00\t1.000000e+00\t1.801860e+00\t-3.204816e-04\t1.984911e-01\n",
      "7\t1.801860e+00\t-3.204816e-04\t2.000000e+00\t1.000000e+00\t1.801924e+00\t-5.788725e-05\t1.981397e-01\n",
      "Raiz encontrada: 1.8019237432443698\n"
     ]
    }
   ],
   "source": [
    "## defina a nova função f1\n",
    "\n",
    "\n",
    "## copie o código da célula usada no exercício 1 aqui embaixo, alterando os valores \n",
    "## de a, b, epsilon e a função passada ao chamar false_pos\n",
    "\n",
    "## modifique os valores abaixo\n",
    "a = 1\n",
    "b = 2\n",
    "\n",
    "def f(x):\n",
    "    return x**3 - x**2 - 2*x + 1\n",
    "\n",
    "epsilon = 0.0001\n",
    "maxIter = 20\n",
    "(houveErro, raiz) = false_pos(f, a, b, epsilon, maxIter)\n",
    "if houveErro:\n",
    "    print(\"O Método da Posição Falsa retornou um erro.\")\n",
    "if raiz is not None:\n",
    "    print(\"Raiz encontrada: %s\" % raiz)\n"
   ]
  },
  {
   "cell_type": "markdown",
   "metadata": {},
   "source": [
    "### Laboratório - Item 01\n"
   ]
  },
  {
   "cell_type": "code",
   "execution_count": 9,
   "metadata": {},
   "outputs": [
    {
     "name": "stdout",
     "output_type": "stream",
     "text": [
      "k\t  a\t\t  Fa\t\t  b\t\t  Fb\t\t  x\t\t  Fx\t\tintervX\n",
      "1\t0.000000e+00\t5.000000e+00\t1.000000e+00\t-4.000000e+00\t5.555556e-01\t2.085048e+00\t1.000000e+00\n",
      "2\t5.555556e-01\t2.085048e+00\t1.000000e+00\t-4.000000e+00\t7.078449e-01\t3.442176e-01\t4.444444e-01\n",
      "3\t7.078449e-01\t3.442176e-01\t1.000000e+00\t-4.000000e+00\t7.309941e-01\t4.708530e-02\t2.921551e-01\n",
      "4\t7.309941e-01\t4.708530e-02\t1.000000e+00\t-4.000000e+00\t7.341238e-01\t6.269904e-03\t2.690059e-01\n",
      "5\t7.341238e-01\t6.269904e-03\t1.000000e+00\t-4.000000e+00\t7.345399e-01\t8.319008e-04\t2.658762e-01\n",
      "6\t7.345399e-01\t8.319008e-04\t1.000000e+00\t-4.000000e+00\t7.345951e-01\t1.103251e-04\t2.654601e-01\n",
      "7\t7.345951e-01\t1.103251e-04\t1.000000e+00\t-4.000000e+00\t7.346024e-01\t1.463018e-05\t2.654049e-01\n",
      "Tempo de execução total: 1.522203e-03 segundos\n",
      "Raiz encontrada: 0.7346023886866092\n"
     ]
    }
   ],
   "source": [
    "from timeit import default_timer as timer\n",
    "\n",
    "def f1(x):\n",
    "    return x**3 - 10*(x**2) + 5\n",
    "\n",
    "a = 0\n",
    "b = 1\n",
    "\n",
    "epsilon = 10**(-4)\n",
    "maxIter = 20\n",
    "\n",
    "start = timer()\n",
    "\n",
    "(houveErro, raiz) = false_pos(f1, a, b, epsilon, maxIter)\n",
    "\n",
    "end = timer()\n",
    "print(\"Tempo de execução total: %e segundos\" %(end - start))\n",
    "\n",
    "if houveErro:\n",
    "    print(\"O Método da Posição Falsa retornou um erro.\")\n",
    "if raiz is not None:\n",
    "    print(\"Raiz encontrada: %s\" % raiz)"
   ]
  },
  {
   "cell_type": "markdown",
   "metadata": {},
   "source": [
    "### Laboratório - Item 02"
   ]
  },
  {
   "cell_type": "code",
   "execution_count": 10,
   "metadata": {},
   "outputs": [
    {
     "name": "stdout",
     "output_type": "stream",
     "text": [
      "k\t  a\t\t  Fa\t\t  b\t\t  Fb\t\t  x\t\t  Fx\t\tintervX\n",
      "1\t0.000000e+00\t9.812540e+00\t1.000000e+00\t-1.796334e+01\t3.532756e-01\t2.575822e+02\t1.000000e+00\n",
      "2\t3.532756e-01\t2.575822e+02\t1.000000e+00\t-1.796334e+01\t9.578388e-01\t-2.076507e+01\t6.467244e-01\n",
      "3\t3.532756e-01\t2.575822e+02\t9.578388e-01\t-2.076507e+01\t9.127376e-01\t-2.224259e+01\t6.045632e-01\n",
      "4\t3.532756e-01\t2.575822e+02\t9.127376e-01\t-2.224259e+01\t8.682673e-01\t-2.129899e+01\t5.594620e-01\n",
      "5\t3.532756e-01\t2.575822e+02\t8.682673e-01\t-2.129899e+01\t8.289358e-01\t-1.863591e+01\t5.149917e-01\n",
      "6\t3.532756e-01\t2.575822e+02\t8.289358e-01\t-1.863591e+01\t7.968439e-01\t-1.571214e+01\t4.756603e-01\n",
      "7\t3.532756e-01\t2.575822e+02\t7.968439e-01\t-1.571214e+01\t7.713425e-01\t-1.320159e+01\t4.435684e-01\n",
      "8\t3.532756e-01\t2.575822e+02\t7.713425e-01\t-1.320159e+01\t7.509603e-01\t-1.118066e+01\t4.180669e-01\n",
      "9\t3.532756e-01\t2.575822e+02\t7.509603e-01\t-1.118066e+01\t7.344165e-01\t-9.561865e+00\t3.976848e-01\n",
      "10\t3.532756e-01\t2.575822e+02\t7.344165e-01\t-9.561865e+00\t7.207743e-01\t-8.249059e+00\t3.811409e-01\n",
      "11\t3.532756e-01\t2.575822e+02\t7.207743e-01\t-8.249059e+00\t7.093704e-01\t-7.167598e+00\t3.674988e-01\n",
      "12\t3.532756e-01\t2.575822e+02\t7.093704e-01\t-7.167598e+00\t6.997298e-01\t-6.263598e+00\t3.560948e-01\n",
      "13\t3.532756e-01\t2.575822e+02\t6.997298e-01\t-6.263598e+00\t6.915051e-01\t-5.498458e+00\t3.464542e-01\n",
      "14\t3.532756e-01\t2.575822e+02\t6.915051e-01\t-5.498458e+00\t6.844360e-01\t-4.844162e+00\t3.382295e-01\n",
      "15\t3.532756e-01\t2.575822e+02\t6.844360e-01\t-4.844162e+00\t6.783231e-01\t-4.279968e+00\t3.311605e-01\n",
      "16\t3.532756e-01\t2.575822e+02\t6.783231e-01\t-4.279968e+00\t6.730104e-01\t-3.790177e+00\t3.250475e-01\n",
      "17\t3.532756e-01\t2.575822e+02\t6.730104e-01\t-3.790177e+00\t6.683739e-01\t-3.362659e+00\t3.197348e-01\n",
      "18\t3.532756e-01\t2.575822e+02\t6.683739e-01\t-3.362659e+00\t6.643134e-01\t-2.987851e+00\t3.150983e-01\n",
      "19\t3.532756e-01\t2.575822e+02\t6.643134e-01\t-2.987851e+00\t6.607469e-01\t-2.658078e+00\t3.110378e-01\n",
      "20\t3.532756e-01\t2.575822e+02\t6.607469e-01\t-2.658078e+00\t6.576064e-01\t-2.367087e+00\t3.074713e-01\n",
      "21\t3.532756e-01\t2.575822e+02\t6.576064e-01\t-2.367087e+00\t6.548351e-01\t-2.109706e+00\t3.043308e-01\n",
      "22\t3.532756e-01\t2.575822e+02\t6.548351e-01\t-2.109706e+00\t6.523853e-01\t-1.881609e+00\t3.015596e-01\n",
      "23\t3.532756e-01\t2.575822e+02\t6.523853e-01\t-1.881609e+00\t6.502162e-01\t-1.679140e+00\t2.991097e-01\n",
      "24\t3.532756e-01\t2.575822e+02\t6.502162e-01\t-1.679140e+00\t6.482930e-01\t-1.499181e+00\t2.969406e-01\n",
      "25\t3.532756e-01\t2.575822e+02\t6.482930e-01\t-1.499181e+00\t6.465859e-01\t-1.339053e+00\t2.950174e-01\n",
      "26\t3.532756e-01\t2.575822e+02\t6.465859e-01\t-1.339053e+00\t6.450690e-01\t-1.196439e+00\t2.933103e-01\n",
      "27\t3.532756e-01\t2.575822e+02\t6.450690e-01\t-1.196439e+00\t6.437199e-01\t-1.069326e+00\t2.917934e-01\n",
      "28\t3.532756e-01\t2.575822e+02\t6.437199e-01\t-1.069326e+00\t6.425191e-01\t-9.559556e-01\t2.904443e-01\n",
      "29\t3.532756e-01\t2.575822e+02\t6.425191e-01\t-9.559556e-01\t6.414497e-01\t-8.547865e-01\t2.892436e-01\n",
      "30\t3.532756e-01\t2.575822e+02\t6.414497e-01\t-8.547865e-01\t6.404965e-01\t-7.644638e-01\t2.881741e-01\n",
      "31\t3.532756e-01\t2.575822e+02\t6.404965e-01\t-7.644638e-01\t6.396466e-01\t-6.837928e-01\t2.872209e-01\n",
      "32\t3.532756e-01\t2.575822e+02\t6.396466e-01\t-6.837928e-01\t6.388884e-01\t-6.117178e-01\t2.863710e-01\n",
      "33\t3.532756e-01\t2.575822e+02\t6.388884e-01\t-6.117178e-01\t6.382117e-01\t-5.473044e-01\t2.856128e-01\n",
      "34\t3.532756e-01\t2.575822e+02\t6.382117e-01\t-5.473044e-01\t6.376076e-01\t-4.897238e-01\t2.849361e-01\n",
      "35\t3.532756e-01\t2.575822e+02\t6.376076e-01\t-4.897238e-01\t6.370680e-01\t-4.382403e-01\t2.843320e-01\n",
      "36\t3.532756e-01\t2.575822e+02\t6.370680e-01\t-4.382403e-01\t6.365860e-01\t-3.921996e-01\t2.837924e-01\n",
      "37\t3.532756e-01\t2.575822e+02\t6.365860e-01\t-3.921996e-01\t6.361553e-01\t-3.510198e-01\t2.833104e-01\n",
      "38\t3.532756e-01\t2.575822e+02\t6.361553e-01\t-3.510198e-01\t6.357703e-01\t-3.141826e-01\t2.828797e-01\n",
      "39\t3.532756e-01\t2.575822e+02\t6.357703e-01\t-3.141826e-01\t6.354262e-01\t-2.812259e-01\t2.824947e-01\n",
      "40\t3.532756e-01\t2.575822e+02\t6.354262e-01\t-2.812259e-01\t6.351185e-01\t-2.517380e-01\t2.821506e-01\n",
      "41\t3.532756e-01\t2.575822e+02\t6.351185e-01\t-2.517380e-01\t6.348433e-01\t-2.253512e-01\t2.818429e-01\n",
      "42\t3.532756e-01\t2.575822e+02\t6.348433e-01\t-2.253512e-01\t6.345972e-01\t-2.017374e-01\t2.815677e-01\n",
      "43\t3.532756e-01\t2.575822e+02\t6.345972e-01\t-2.017374e-01\t6.343770e-01\t-1.806039e-01\t2.813216e-01\n",
      "44\t3.532756e-01\t2.575822e+02\t6.343770e-01\t-1.806039e-01\t6.341801e-01\t-1.616888e-01\t2.811014e-01\n",
      "45\t3.532756e-01\t2.575822e+02\t6.341801e-01\t-1.616888e-01\t6.340038e-01\t-1.447583e-01\t2.809045e-01\n",
      "46\t3.532756e-01\t2.575822e+02\t6.340038e-01\t-1.447583e-01\t6.338462e-01\t-1.296035e-01\t2.807283e-01\n",
      "47\t3.532756e-01\t2.575822e+02\t6.338462e-01\t-1.296035e-01\t6.337051e-01\t-1.160376e-01\t2.805706e-01\n",
      "48\t3.532756e-01\t2.575822e+02\t6.337051e-01\t-1.160376e-01\t6.335788e-01\t-1.038934e-01\t2.804295e-01\n",
      "49\t3.532756e-01\t2.575822e+02\t6.335788e-01\t-1.038934e-01\t6.334658e-01\t-9.302166e-02\t2.803032e-01\n",
      "50\t3.532756e-01\t2.575822e+02\t6.334658e-01\t-9.302166e-02\t6.333646e-01\t-8.328873e-02\t2.801902e-01\n",
      "51\t3.532756e-01\t2.575822e+02\t6.333646e-01\t-8.328873e-02\t6.332741e-01\t-7.457509e-02\t2.800890e-01\n",
      "52\t3.532756e-01\t2.575822e+02\t6.332741e-01\t-7.457509e-02\t6.331930e-01\t-6.677379e-02\t2.799985e-01\n",
      "53\t3.532756e-01\t2.575822e+02\t6.331930e-01\t-6.677379e-02\t6.331205e-01\t-5.978918e-02\t2.799175e-01\n",
      "54\t3.532756e-01\t2.575822e+02\t6.331205e-01\t-5.978918e-02\t6.330556e-01\t-5.353563e-02\t2.798449e-01\n",
      "55\t3.532756e-01\t2.575822e+02\t6.330556e-01\t-5.353563e-02\t6.329974e-01\t-4.793653e-02\t2.797800e-01\n",
      "56\t3.532756e-01\t2.575822e+02\t6.329974e-01\t-4.793653e-02\t6.329454e-01\t-4.292332e-02\t2.797218e-01\n",
      "57\t3.532756e-01\t2.575822e+02\t6.329454e-01\t-4.292332e-02\t6.328988e-01\t-3.843463e-02\t2.796698e-01\n",
      "58\t3.532756e-01\t2.575822e+02\t6.328988e-01\t-3.843463e-02\t6.328571e-01\t-3.441554e-02\t2.796232e-01\n",
      "59\t3.532756e-01\t2.575822e+02\t6.328571e-01\t-3.441554e-02\t6.328197e-01\t-3.081687e-02\t2.795815e-01\n",
      "60\t3.532756e-01\t2.575822e+02\t6.328197e-01\t-3.081687e-02\t6.327863e-01\t-2.759462e-02\t2.795441e-01\n",
      "61\t3.532756e-01\t2.575822e+02\t6.327863e-01\t-2.759462e-02\t6.327563e-01\t-2.470939e-02\t2.795107e-01\n",
      "62\t3.532756e-01\t2.575822e+02\t6.327563e-01\t-2.470939e-02\t6.327295e-01\t-2.212591e-02\t2.794807e-01\n",
      "63\t3.532756e-01\t2.575822e+02\t6.327295e-01\t-2.212591e-02\t6.327055e-01\t-1.981261e-02\t2.794539e-01\n",
      "64\t3.532756e-01\t2.575822e+02\t6.327055e-01\t-1.981261e-02\t6.326840e-01\t-1.774122e-02\t2.794299e-01\n",
      "65\t3.532756e-01\t2.575822e+02\t6.326840e-01\t-1.774122e-02\t6.326648e-01\t-1.588643e-02\t2.794084e-01\n",
      "66\t3.532756e-01\t2.575822e+02\t6.326648e-01\t-1.588643e-02\t6.326476e-01\t-1.422558e-02\t2.793892e-01\n",
      "67\t3.532756e-01\t2.575822e+02\t6.326476e-01\t-1.422558e-02\t6.326321e-01\t-1.273840e-02\t2.793720e-01\n",
      "68\t3.532756e-01\t2.575822e+02\t6.326321e-01\t-1.273840e-02\t6.326183e-01\t-1.140671e-02\t2.793565e-01\n",
      "69\t3.532756e-01\t2.575822e+02\t6.326183e-01\t-1.140671e-02\t6.326059e-01\t-1.021425e-02\t2.793427e-01\n",
      "70\t3.532756e-01\t2.575822e+02\t6.326059e-01\t-1.021425e-02\t6.325949e-01\t-9.146466e-03\t2.793304e-01\n",
      "Tempo de execução total: 2.460427e-03 segundos\n",
      "Raiz encontrada: 0.6325948654034443\n"
     ]
    }
   ],
   "source": [
    "from timeit import default_timer as timer\n",
    "\n",
    "def f2(x):\n",
    "    return ((1/((x - 0.3)**2 + 0.001)) - (1/((x - 0.9)**2 + 0.04)))\n",
    "\n",
    "a = 0\n",
    "b = 1\n",
    "\n",
    "epsilon = 10**(-2)\n",
    "maxIter = 100\n",
    "\n",
    "start = timer()\n",
    "\n",
    "(houveErro, raiz) = false_pos(f2, a, b, epsilon, maxIter)\n",
    "\n",
    "end = timer()\n",
    "print(\"Tempo de execução total: %e segundos\" %(end - start))\n",
    "\n",
    "if houveErro:\n",
    "    print(\"O Método da Posição Falsa retornou um erro.\")\n",
    "if raiz is not None:\n",
    "    print(\"Raiz encontrada: %s\" % raiz)"
   ]
  },
  {
   "cell_type": "markdown",
   "metadata": {},
   "source": [
    "### Laboratório - Item 03"
   ]
  },
  {
   "cell_type": "code",
   "execution_count": 11,
   "metadata": {},
   "outputs": [
    {
     "name": "stdout",
     "output_type": "stream",
     "text": [
      "k\t  a\t\t  Fa\t\t  b\t\t  Fb\t\t  x\t\t  Fx\t\tintervX\n",
      "1\t4.000000e+00\t-1.784985e+01\t5.000000e+00\t2.105056e+01\t4.458860e+00\t-1.083556e+01\t1.000000e+00\n",
      "2\t4.458860e+00\t-1.083556e+01\t5.000000e+00\t2.105056e+01\t4.642751e+00\t-3.612671e+00\t5.411397e-01\n",
      "3\t4.642751e+00\t-3.612671e+00\t5.000000e+00\t2.105056e+01\t4.695081e+00\t-9.468674e-01\t3.572493e-01\n",
      "4\t4.695081e+00\t-9.468674e-01\t5.000000e+00\t2.105056e+01\t4.708206e+00\t-2.318845e-01\t3.049194e-01\n",
      "5\t4.708206e+00\t-2.318845e-01\t5.000000e+00\t2.105056e+01\t4.711385e+00\t-5.583220e-02\t2.917943e-01\n",
      "6\t4.711385e+00\t-5.583220e-02\t5.000000e+00\t2.105056e+01\t4.712148e+00\t-1.338796e-02\t2.886151e-01\n",
      "7\t4.712148e+00\t-1.338796e-02\t5.000000e+00\t2.105056e+01\t4.712331e+00\t-3.207123e-03\t2.878516e-01\n",
      "8\t4.712331e+00\t-3.207123e-03\t5.000000e+00\t2.105056e+01\t4.712375e+00\t-7.680940e-04\t2.876686e-01\n",
      "9\t4.712375e+00\t-7.680940e-04\t5.000000e+00\t2.105056e+01\t4.712386e+00\t-1.839452e-04\t2.876248e-01\n",
      "10\t4.712386e+00\t-1.839452e-04\t5.000000e+00\t2.105056e+01\t4.712388e+00\t-4.405111e-05\t2.876143e-01\n",
      "11\t4.712388e+00\t-4.405111e-05\t5.000000e+00\t2.105056e+01\t4.712389e+00\t-1.054930e-05\t2.876118e-01\n",
      "12\t4.712389e+00\t-1.054930e-05\t5.000000e+00\t2.105056e+01\t4.712389e+00\t-2.526331e-06\t2.876112e-01\n",
      "Tempo de execução total: 1.213258e-03 segundos\n",
      "Raiz encontrada: 4.7123889349988195\n"
     ]
    }
   ],
   "source": [
    "from timeit import default_timer as timer\n",
    "import math\n",
    "\n",
    "def f3(x):\n",
    "    return math.cosh(x)*math.cos(x)\n",
    "\n",
    "a = 4\n",
    "b = 5\n",
    "\n",
    "epsilon = 10**(-5)\n",
    "maxIter = 20\n",
    "\n",
    "start = timer()\n",
    "\n",
    "(houveErro, raiz) = false_pos(f3, a, b, epsilon, maxIter)\n",
    "\n",
    "end = timer()\n",
    "print(\"Tempo de execução total: %e segundos\" %(end - start))\n",
    "\n",
    "if houveErro:\n",
    "    print(\"O Método da Posição Falsa retornou um erro.\")\n",
    "if raiz is not None:\n",
    "    print(\"Raiz encontrada: %s\" % raiz)"
   ]
  },
  {
   "cell_type": "code",
   "execution_count": 12,
   "metadata": {},
   "outputs": [
    {
     "name": "stdout",
     "output_type": "stream",
     "text": [
      "k\t  a\t\t  Fa\t\t  b\t\t  Fb\t\t  x\t\t  Fx\t\tintervX\n",
      "1\t1.200000e+00\t-1.960000e+00\t2.200000e+00\t1.440000e+00\t1.776471e+00\t-2.441522e-01\t1.000000e+00\n",
      "2\t1.776471e+00\t-2.441522e-01\t2.200000e+00\t1.440000e+00\t1.837870e+00\t-2.223452e-02\t4.235294e-01\n",
      "3\t1.837870e+00\t-2.223452e-02\t2.200000e+00\t1.440000e+00\t1.843376e+00\t-1.963747e-03\t3.621302e-01\n",
      "Tempo de execução total: 1.975400e-04 segundos\n",
      "Raiz encontrada: 1.8433763188745604\n"
     ]
    }
   ],
   "source": [
    "from timeit import default_timer as timer\n",
    "import math\n",
    "\n",
    "def f4(x):\n",
    "    return x**2 - 3.4\n",
    "\n",
    "a = 1.2\n",
    "b = 2.2\n",
    "\n",
    "epsilon = 10**(-2)\n",
    "maxIter = 20\n",
    "\n",
    "start = timer()\n",
    "\n",
    "(houveErro, raiz) = false_pos(f4, a, b, epsilon, maxIter)\n",
    "\n",
    "end = timer()\n",
    "print(\"Tempo de execução total: %e segundos\" %(end - start))\n",
    "\n",
    "if houveErro:\n",
    "    print(\"O Método da Posição Falsa retornou um erro.\")\n",
    "if raiz is not None:\n",
    "    print(\"Raiz encontrada: %s\" % raiz)"
   ]
  },
  {
   "cell_type": "code",
   "execution_count": null,
   "metadata": {},
   "outputs": [],
   "source": []
  }
 ],
 "metadata": {
  "kernelspec": {
   "display_name": "Python 3",
   "language": "python",
   "name": "python3"
  },
  "language_info": {
   "codemirror_mode": {
    "name": "ipython",
    "version": 3
   },
   "file_extension": ".py",
   "mimetype": "text/x-python",
   "name": "python",
   "nbconvert_exporter": "python",
   "pygments_lexer": "ipython3",
   "version": "3.6.5"
  }
 },
 "nbformat": 4,
 "nbformat_minor": 2
}
