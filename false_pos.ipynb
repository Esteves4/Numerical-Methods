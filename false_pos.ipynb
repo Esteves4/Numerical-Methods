{
 "cells": [
  {
   "cell_type": "markdown",
   "metadata": {},
   "source": [
    "# Método da Posição Falsa\n",
    "## Objetivo\n",
    "O objetivo desse notebook é implementar o método da Posição Falsa em Python e aplicá-lo para achar as raízes de equações não lineares.\n",
    "\n",
    "## Implementação\n",
    "Nós iremos implementar o algoritmo parte por parte, de acordo com a estratégia mostrada em sala. As instruções estão nos comentários na função abaixo. Você só precisa editar onde estiver indicado. \n",
    "\n",
    "Para executar uma célula, selecione a célula e pressione ```Ctrl + Enter```. Após implementar a função ```false_pos``` você deve executar cada uma das células, preferencialmente na ordem em que elas aparecem.\n"
   ]
  },
  {
   "cell_type": "code",
   "execution_count": null,
   "metadata": {},
   "outputs": [],
   "source": [
    "def false_pos(f, a, b, epsilon, maxIter = 50):\n",
    "    \"\"\"Executa o método da Posição Falsa para achar o zero de f no intervalo \n",
    "       [a,b] com precisão epsilon. O método executa no máximo maxIter\n",
    "       iterações.\n",
    "       Retorna uma tupla (houveErro, raiz), onde houveErro é booleano.\n",
    "    \"\"\"\n",
    "    ## Inicializar as variáveis Fa e Fb\n",
    "    Fa = f(a)\n",
    "    Fb = f(b)\n",
    "    \n",
    "    ## Teste para saber se a função muda de sinal. Se não mudar, mostrar\n",
    "    ## mensagem de erro\n",
    "    if Fa*Fb > 0:\n",
    "        ## Mostrar mensagem\n",
    "        print(\"Erro! A função não muda de sinal.\")\n",
    "        return (True, None)\n",
    "    \n",
    "    ## Inicializa o tamanho do intervalo intervX usando a função abs\n",
    "    intervX = abs(b-a)\n",
    "    \n",
    "    ## Teste se intervalo já é do tamanho da precisão e retorna a raiz sem erros\n",
    "    if intervX <= epsilon:\n",
    "        if(Fa < 0):\n",
    "            x0 = (a*Fb - b*Fa)/(Fb - Fa)\n",
    "        else:\n",
    "            x0 = (b*Fa - a*Fb)/(Fa - Fb)\n",
    "            \n",
    "        return (False, x0)\n",
    "        \n",
    "    \n",
    "    ## Testes se raiz está nos extremos dos intervalos\n",
    "    \n",
    "    ## Teste se a é raiz, se for, retorna o próprio a sem erros\n",
    "    if Fa == 0:\n",
    "        return (False, a)\n",
    "    \n",
    "    ## Teste se b é raiz, se for, retorna o próprio b sem erros\n",
    "    if Fb == 0:\n",
    "        return (False, b)\n",
    "    \n",
    "    ## Mostra na tela cabeçalho da tabela\n",
    "    print(\"k\\t  a\\t\\t  Fa\\t\\t  b\\t\\t  Fb\\t\\t  x\\t\\t  Fx\\t\\tintervX\")\n",
    "    \n",
    "    ## Iniciliza o k, dessa vez usaremos um for\n",
    "    for k in range(1, maxIter+1):\n",
    "        ## Calcula x, Fx\n",
    "        x = (a*Fb - b*Fa)/(Fb - Fa) if Fa < 0 else (b*Fa - a*Fb)/(Fa - Fb)\n",
    "        Fx = f(x)\n",
    "        \n",
    "        ## Mostra valores na tela\n",
    "        print(\"%d\\t%e\\t%e\\t%e\\t%e\\t%e\\t%e\\t%e\"%(k,a, Fa, b, Fb, x, Fx, intervX))\n",
    "        \n",
    "        ## Teste do critério de parada módulo da função\n",
    "        if abs(Fx) <= epsilon:\n",
    "            return (False, x)\n",
    "        \n",
    "        ## Testes para saber se a raiz está entre a e x ou entre x e b e atualiza\n",
    "        ## as variáveis apropriadamente\n",
    "        \n",
    "        if Fa * Fx > 0:\n",
    "            a = x\n",
    "            Fa = f(a)\n",
    "        else:\n",
    "            b = x\n",
    "            Fb = f(b)\n",
    "        \n",
    "        ## Atualiza intervX e checa o outro critério de parada: tamanho do intervalo\n",
    "        intervX = abs(b-a)\n",
    "        if intervX <= epsilon:\n",
    "            return (False, x)\n",
    "       \n",
    "    ## Mostrar uma mensagem de erro e retorna que houve erro e a última raiz encontrada\n",
    "    print(\"ERRO! número máximo de iterações atingido.\")\n",
    "    return (True, x)"
   ]
  },
  {
   "cell_type": "markdown",
   "metadata": {},
   "source": [
    "Agora precisamos testar se a função está implementada corretamente. Iremos usar o exemplo mostrado em sala: f(x) = x^3-9x+3. Inicialmente vamos definir a função f:"
   ]
  },
  {
   "cell_type": "code",
   "execution_count": null,
   "metadata": {
    "collapsed": true
   },
   "outputs": [],
   "source": [
    "def f(x):\n",
    "    return x**3 - 9*x + 3"
   ]
  },
  {
   "cell_type": "markdown",
   "metadata": {},
   "source": [
    "Não se esqueça de executar as células de código acima"
   ]
  },
  {
   "cell_type": "markdown",
   "metadata": {},
   "source": [
    "Depois iremos definir os parâmetros que serão passados para a função bissecao:"
   ]
  },
  {
   "cell_type": "code",
   "execution_count": null,
   "metadata": {
    "collapsed": true
   },
   "outputs": [],
   "source": [
    "a = 0\n",
    "b = 1\n",
    "epsilon = 0.001\n",
    "maxIter = 20"
   ]
  },
  {
   "cell_type": "markdown",
   "metadata": {},
   "source": [
    "Agora podemos chamar a função ```false_pos``` com os parâmetros definidos. Lembre-se de que a função retorna uma tupla:"
   ]
  },
  {
   "cell_type": "code",
   "execution_count": null,
   "metadata": {},
   "outputs": [],
   "source": [
    "from timeit import default_timer as timer\n",
    "\n",
    "start = timer()\n",
    "(houveErro, raiz) = false_pos(f, a, b, epsilon, maxIter)\n",
    "\n",
    "end = timer()\n",
    "print(\"Tempo de execução total: %e segundos\" %(end - start))"
   ]
  },
  {
   "cell_type": "markdown",
   "metadata": {},
   "source": [
    "Ao executar a célula acima, você verá a tabela de resultados como vista em sala. Agora precisamos testar o valor de houveErro e mostrar a raiz se não houver erro:"
   ]
  },
  {
   "cell_type": "code",
   "execution_count": null,
   "metadata": {},
   "outputs": [],
   "source": [
    "if houveErro:\n",
    "    print(\"O Método da Posição Falsa retornou um erro.\")\n",
    "if raiz is not None:\n",
    "    print(\"Raiz encontrada: %s\" % raiz)"
   ]
  },
  {
   "cell_type": "markdown",
   "metadata": {},
   "source": [
    "Se tudo deu certo, ao executar a célula acima, você deverá ver:\n",
    "\n",
    "```Raiz encontrada: 0.33763504551140067```"
   ]
  },
  {
   "cell_type": "markdown",
   "metadata": {},
   "source": [
    "## Exercícios\n",
    "\n",
    "### Exercício 1\n",
    "\n",
    "Modifique os valores de a e b na célula abaixo para achar as outras duas raízes da função. Após editar a célula, execute-a para ver a tabela e a raiz. Quantas iterações foram necessárias?"
   ]
  },
  {
   "cell_type": "code",
   "execution_count": null,
   "metadata": {},
   "outputs": [],
   "source": [
    "## modifique os valores abaixo\n",
    "a = 6\n",
    "b = 7\n",
    "\n",
    "epsilon = 0.001\n",
    "maxIter = 20\n",
    "(houveErro, raiz) = false_pos(f, a, b, epsilon, maxIter)\n",
    "if houveErro:\n",
    "    print(\"O Método da Posição Falsa retornou um erro.\")\n",
    "if raiz is not None:\n",
    "    print(\"Raiz encontrada: %s\" % raiz)"
   ]
  },
  {
   "cell_type": "markdown",
   "metadata": {},
   "source": [
    "### Exercício 2\n",
    "\n",
    "Defina uma nova função f1(x) = x^3 - x^2 -2x + 1, e ache a raiz dessa função no intervalo [1,2], com epsilon = 0.0001."
   ]
  },
  {
   "cell_type": "code",
   "execution_count": null,
   "metadata": {
    "scrolled": true
   },
   "outputs": [],
   "source": [
    "## defina a nova função f1\n",
    "\n",
    "\n",
    "## copie o código da célula usada no exercício 1 aqui embaixo, alterando os valores \n",
    "## de a, b, epsilon e a função passada ao chamar false_pos\n",
    "\n",
    "## modifique os valores abaixo\n",
    "a = 1\n",
    "b = 2\n",
    "\n",
    "def f(x):\n",
    "    return x**3 - x**2 - 2*x + 1\n",
    "\n",
    "epsilon = 0.0001\n",
    "maxIter = 20\n",
    "(houveErro, raiz) = false_pos(f, a, b, epsilon, maxIter)\n",
    "if houveErro:\n",
    "    print(\"O Método da Posição Falsa retornou um erro.\")\n",
    "if raiz is not None:\n",
    "    print(\"Raiz encontrada: %s\" % raiz)\n"
   ]
  },
  {
   "cell_type": "markdown",
   "metadata": {},
   "source": [
    "### Laboratório - Item 01\n"
   ]
  },
  {
   "cell_type": "code",
   "execution_count": null,
   "metadata": {},
   "outputs": [],
   "source": [
    "from timeit import default_timer as timer\n",
    "\n",
    "def f1(x):\n",
    "    return x**3 - 10*(x**2) + 5\n",
    "\n",
    "a = 0\n",
    "b = 1\n",
    "\n",
    "epsilon = 10**(-4)\n",
    "maxIter = 20\n",
    "\n",
    "start = timer()\n",
    "\n",
    "(houveErro, raiz) = false_pos(f1, a, b, epsilon, maxIter)\n",
    "\n",
    "end = timer()\n",
    "print(\"Tempo de execução total: %e segundos\" %(end - start))\n",
    "\n",
    "if houveErro:\n",
    "    print(\"O Método da Posição Falsa retornou um erro.\")\n",
    "if raiz is not None:\n",
    "    print(\"Raiz encontrada: %s\" % raiz)"
   ]
  },
  {
   "cell_type": "markdown",
   "metadata": {},
   "source": [
    "### Laboratório - Item 02"
   ]
  },
  {
   "cell_type": "code",
   "execution_count": null,
   "metadata": {},
   "outputs": [],
   "source": [
    "from timeit import default_timer as timer\n",
    "\n",
    "def f2(x):\n",
    "    return ((1/((x - 0.3)**2 + 0.001)) - (1/((x - 0.9)**2 + 0.04)))\n",
    "\n",
    "a = 0\n",
    "b = 1\n",
    "\n",
    "epsilon = 10**(-2)\n",
    "maxIter = 100\n",
    "\n",
    "start = timer()\n",
    "\n",
    "(houveErro, raiz) = false_pos(f2, a, b, epsilon, maxIter)\n",
    "\n",
    "end = timer()\n",
    "print(\"Tempo de execução total: %e segundos\" %(end - start))\n",
    "\n",
    "if houveErro:\n",
    "    print(\"O Método da Posição Falsa retornou um erro.\")\n",
    "if raiz is not None:\n",
    "    print(\"Raiz encontrada: %s\" % raiz)"
   ]
  },
  {
   "cell_type": "markdown",
   "metadata": {},
   "source": [
    "### Laboratório - Item 03"
   ]
  },
  {
   "cell_type": "code",
   "execution_count": null,
   "metadata": {},
   "outputs": [],
   "source": [
    "from timeit import default_timer as timer\n",
    "import math\n",
    "\n",
    "def f3(x):\n",
    "    return math.cosh(x)*math.cos(x)\n",
    "\n",
    "a = 4\n",
    "b = 5\n",
    "\n",
    "epsilon = 10**(-5)\n",
    "maxIter = 20\n",
    "\n",
    "start = timer()\n",
    "\n",
    "(houveErro, raiz) = false_pos(f3, a, b, epsilon, maxIter)\n",
    "\n",
    "end = timer()\n",
    "print(\"Tempo de execução total: %e segundos\" %(end - start))\n",
    "\n",
    "if houveErro:\n",
    "    print(\"O Método da Posição Falsa retornou um erro.\")\n",
    "if raiz is not None:\n",
    "    print(\"Raiz encontrada: %s\" % raiz)"
   ]
  }
 ],
 "metadata": {
  "kernelspec": {
   "display_name": "Python 3",
   "language": "python",
   "name": "python3"
  },
  "language_info": {
   "codemirror_mode": {
    "name": "ipython",
    "version": 3
   },
   "file_extension": ".py",
   "mimetype": "text/x-python",
   "name": "python",
   "nbconvert_exporter": "python",
   "pygments_lexer": "ipython3",
   "version": "3.6.1"
  }
 },
 "nbformat": 4,
 "nbformat_minor": 2
}
