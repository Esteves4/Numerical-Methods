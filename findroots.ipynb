{
 "cells": [
  {
   "cell_type": "code",
   "execution_count": 1,
   "metadata": {
    "collapsed": true
   },
   "outputs": [],
   "source": [
    "def findroots(f, a, b, dx):\n",
    "    x1 = a\n",
    "    f1 = f(a)\n",
    "    x2 = a + dx\n",
    "    f2 = f(x2)\n",
    "\n",
    "    while f1*f2 >= 0:\n",
    "        if x1 >= b:\n",
    "            return None,None\n",
    "        x1 = x2\n",
    "        f1 = f2\n",
    "        x2 = x1 + dx\n",
    "        f2 = f(x2)\n",
    "    else:\n",
    "        return (x1,x2)"
   ]
  }
 ],
 "metadata": {
  "kernelspec": {
   "display_name": "Python 3",
   "language": "python",
   "name": "python3"
  },
  "language_info": {
   "codemirror_mode": {
    "name": "ipython",
    "version": 3
   },
   "file_extension": ".py",
   "mimetype": "text/x-python",
   "name": "python",
   "nbconvert_exporter": "python",
   "pygments_lexer": "ipython3",
   "version": "3.6.1"
  }
 },
 "nbformat": 4,
 "nbformat_minor": 2
}
